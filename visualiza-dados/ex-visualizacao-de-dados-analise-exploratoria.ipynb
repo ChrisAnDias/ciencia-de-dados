{
 "cells": [
  {
   "cell_type": "markdown",
   "id": "e0a46e00",
   "metadata": {},
   "source": [
    "# Visualização de dados - análise exploratória"
   ]
  },
  {
   "cell_type": "markdown",
   "id": "45163427",
   "metadata": {},
   "source": [
    "- Também conhecida como **EDA** (Exploring Data Analyses), a técnica objetiva **analisar e investigar** conjuntos de dados e **resumir** suas principais características, muitas vezes **usando métodos de visualização de dados**.\n",
    "- Serve para **identificar o que os dados podem revelar** além da tarefa formal de modelagem ou teste de hipótese e proporciona uma melhor compreensão das variáveis do conjunto de dados e as **relações entre eles**."
   ]
  },
  {
   "cell_type": "markdown",
   "id": "1fd43be5",
   "metadata": {},
   "source": [
    "## Importações"
   ]
  },
  {
   "cell_type": "code",
   "execution_count": 2,
   "id": "e0df07f4",
   "metadata": {
    "ExecuteTime": {
     "end_time": "2022-09-06T02:01:59.072367Z",
     "start_time": "2022-09-06T02:01:56.225407Z"
    }
   },
   "outputs": [],
   "source": [
    "import pandas as pd\n",
    "import numpy as np\n",
    "import matplotlib.pyplot as plt\n",
    "import seaborn as sns"
   ]
  },
  {
   "cell_type": "code",
   "execution_count": 3,
   "id": "a82de82d",
   "metadata": {
    "ExecuteTime": {
     "end_time": "2022-09-06T02:01:59.118911Z",
     "start_time": "2022-09-06T02:01:59.073318Z"
    }
   },
   "outputs": [
    {
     "data": {
      "text/html": [
       "<div>\n",
       "<style scoped>\n",
       "    .dataframe tbody tr th:only-of-type {\n",
       "        vertical-align: middle;\n",
       "    }\n",
       "\n",
       "    .dataframe tbody tr th {\n",
       "        vertical-align: top;\n",
       "    }\n",
       "\n",
       "    .dataframe thead th {\n",
       "        text-align: right;\n",
       "    }\n",
       "</style>\n",
       "<table border=\"1\" class=\"dataframe\">\n",
       "  <thead>\n",
       "    <tr style=\"text-align: right;\">\n",
       "      <th></th>\n",
       "      <th>CODIGO</th>\n",
       "      <th>MUNICIPIO</th>\n",
       "      <th>PIB</th>\n",
       "      <th>VALOREMPENHO</th>\n",
       "    </tr>\n",
       "  </thead>\n",
       "  <tbody>\n",
       "    <tr>\n",
       "      <th>0</th>\n",
       "      <td>106</td>\n",
       "      <td>SANTANA DO LIVRAMENTO</td>\n",
       "      <td>12240.76</td>\n",
       "      <td>1088666.10</td>\n",
       "    </tr>\n",
       "    <tr>\n",
       "      <th>1</th>\n",
       "      <td>113</td>\n",
       "      <td>SANTO ANGELO</td>\n",
       "      <td>16575.82</td>\n",
       "      <td>800669.92</td>\n",
       "    </tr>\n",
       "    <tr>\n",
       "      <th>2</th>\n",
       "      <td>118</td>\n",
       "      <td>SAO FRANCISCO DE ASSIS</td>\n",
       "      <td>12037.61</td>\n",
       "      <td>466122.80</td>\n",
       "    </tr>\n",
       "    <tr>\n",
       "      <th>3</th>\n",
       "      <td>13</td>\n",
       "      <td>CACAPAVA DO SUL</td>\n",
       "      <td>13674.54</td>\n",
       "      <td>485535.86</td>\n",
       "    </tr>\n",
       "    <tr>\n",
       "      <th>4</th>\n",
       "      <td>120</td>\n",
       "      <td>SAO GABRIEL</td>\n",
       "      <td>19912.38</td>\n",
       "      <td>533719.86</td>\n",
       "    </tr>\n",
       "    <tr>\n",
       "      <th>...</th>\n",
       "      <td>...</td>\n",
       "      <td>...</td>\n",
       "      <td>...</td>\n",
       "      <td>...</td>\n",
       "    </tr>\n",
       "    <tr>\n",
       "      <th>182</th>\n",
       "      <td>372</td>\n",
       "      <td>SANTA VITORIA DO PALMAR</td>\n",
       "      <td>27170.89</td>\n",
       "      <td>760.00</td>\n",
       "    </tr>\n",
       "    <tr>\n",
       "      <th>183</th>\n",
       "      <td>107</td>\n",
       "      <td>SANTA BARBARA DO SUL</td>\n",
       "      <td>29654.02</td>\n",
       "      <td>365.00</td>\n",
       "    </tr>\n",
       "    <tr>\n",
       "      <th>184</th>\n",
       "      <td>54</td>\n",
       "      <td>GETULIO VARGAS</td>\n",
       "      <td>16876.33</td>\n",
       "      <td>233.01</td>\n",
       "    </tr>\n",
       "    <tr>\n",
       "      <th>185</th>\n",
       "      <td>382</td>\n",
       "      <td>NOVA SANTA RITA</td>\n",
       "      <td>25938.38</td>\n",
       "      <td>310.58</td>\n",
       "    </tr>\n",
       "    <tr>\n",
       "      <th>186</th>\n",
       "      <td>60</td>\n",
       "      <td>GUARANI DAS MISSOES</td>\n",
       "      <td>24363.31</td>\n",
       "      <td>172.13</td>\n",
       "    </tr>\n",
       "  </tbody>\n",
       "</table>\n",
       "<p>187 rows × 4 columns</p>\n",
       "</div>"
      ],
      "text/plain": [
       "     CODIGO                MUNICIPIO       PIB  VALOREMPENHO\n",
       "0       106    SANTANA DO LIVRAMENTO  12240.76    1088666.10\n",
       "1       113             SANTO ANGELO  16575.82     800669.92\n",
       "2       118   SAO FRANCISCO DE ASSIS  12037.61     466122.80\n",
       "3        13          CACAPAVA DO SUL  13674.54     485535.86\n",
       "4       120              SAO GABRIEL  19912.38     533719.86\n",
       "..      ...                      ...       ...           ...\n",
       "182     372  SANTA VITORIA DO PALMAR  27170.89        760.00\n",
       "183     107     SANTA BARBARA DO SUL  29654.02        365.00\n",
       "184      54           GETULIO VARGAS  16876.33        233.01\n",
       "185     382          NOVA SANTA RITA  25938.38        310.58\n",
       "186      60      GUARANI DAS MISSOES  24363.31        172.13\n",
       "\n",
       "[187 rows x 4 columns]"
      ]
     },
     "execution_count": 3,
     "metadata": {},
     "output_type": "execute_result"
    }
   ],
   "source": [
    "bd = pd.read_csv('dados.csv', sep = ';')\n",
    "bd"
   ]
  },
  {
   "cell_type": "code",
   "execution_count": 4,
   "id": "49abf075",
   "metadata": {
    "ExecuteTime": {
     "end_time": "2022-09-06T02:01:59.150203Z",
     "start_time": "2022-09-06T02:01:59.119904Z"
    },
    "scrolled": true
   },
   "outputs": [
    {
     "name": "stdout",
     "output_type": "stream",
     "text": [
      "<class 'pandas.core.frame.DataFrame'>\n",
      "RangeIndex: 187 entries, 0 to 186\n",
      "Data columns (total 4 columns):\n",
      " #   Column        Non-Null Count  Dtype  \n",
      "---  ------        --------------  -----  \n",
      " 0   CODIGO        187 non-null    int64  \n",
      " 1   MUNICIPIO     187 non-null    object \n",
      " 2   PIB           187 non-null    float64\n",
      " 3   VALOREMPENHO  187 non-null    float64\n",
      "dtypes: float64(2), int64(1), object(1)\n",
      "memory usage: 6.0+ KB\n"
     ]
    }
   ],
   "source": [
    "bd.info()"
   ]
  },
  {
   "cell_type": "markdown",
   "id": "5721baef",
   "metadata": {},
   "source": [
    "## Análises gerais"
   ]
  },
  {
   "cell_type": "markdown",
   "id": "6f69c2fa",
   "metadata": {},
   "source": [
    " - Será que tem algum campo de municipio vazio ou repetido?\n",
    " - Algum campo nulo ou zero nos atributos de PIB e Valor Empenho?"
   ]
  },
  {
   "cell_type": "code",
   "execution_count": 5,
   "id": "e0e3124f",
   "metadata": {
    "ExecuteTime": {
     "end_time": "2022-09-06T02:01:59.165561Z",
     "start_time": "2022-09-06T02:01:59.151600Z"
    }
   },
   "outputs": [
    {
     "data": {
      "text/plain": [
       "CODIGO          0\n",
       "MUNICIPIO       0\n",
       "PIB             0\n",
       "VALOREMPENHO    0\n",
       "dtype: int64"
      ]
     },
     "execution_count": 5,
     "metadata": {},
     "output_type": "execute_result"
    }
   ],
   "source": [
    "#verificação de células nulas\n",
    "bd.isnull().sum() "
   ]
  },
  {
   "cell_type": "markdown",
   "id": "42edc938",
   "metadata": {},
   "source": [
    "- não há campos nulos"
   ]
  },
  {
   "cell_type": "code",
   "execution_count": 6,
   "id": "f4ce950c",
   "metadata": {
    "ExecuteTime": {
     "end_time": "2022-09-06T02:01:59.181518Z",
     "start_time": "2022-09-06T02:01:59.166558Z"
    },
    "scrolled": false
   },
   "outputs": [
    {
     "data": {
      "text/plain": [
       "378    4\n",
       "372    4\n",
       "259    4\n",
       "141    4\n",
       "380    4\n",
       "      ..\n",
       "414    1\n",
       "220    1\n",
       "75     1\n",
       "99     1\n",
       "60     1\n",
       "Name: CODIGO, Length: 172, dtype: int64"
      ]
     },
     "execution_count": 6,
     "metadata": {},
     "output_type": "execute_result"
    }
   ],
   "source": [
    "#verificação de dados repetido no código\n",
    "bd['CODIGO'].value_counts()"
   ]
  },
  {
   "cell_type": "code",
   "execution_count": 7,
   "id": "9d182e23",
   "metadata": {
    "ExecuteTime": {
     "end_time": "2022-09-06T02:01:59.197476Z",
     "start_time": "2022-09-06T02:01:59.182516Z"
    }
   },
   "outputs": [
    {
     "data": {
      "text/plain": [
       "SANTA VITORIA DO PALMAR      2\n",
       "MATO LEITAO                  2\n",
       "NOVA BOA VISTA               2\n",
       "SANTO ANTONIO DO PLANALTO    2\n",
       "TAQUARA                      2\n",
       "                            ..\n",
       "SENTINELA DO SUL             1\n",
       "ROQUE GONZALES               1\n",
       "MARAU                        1\n",
       "RESTINGA SECA                1\n",
       "GUARANI DAS MISSOES          1\n",
       "Name: MUNICIPIO, Length: 177, dtype: int64"
      ]
     },
     "execution_count": 7,
     "metadata": {},
     "output_type": "execute_result"
    }
   ],
   "source": [
    "#verificação de dados repetido no código\n",
    "bd['MUNICIPIO'].value_counts()"
   ]
  },
  {
   "cell_type": "code",
   "execution_count": 8,
   "id": "0cd2d821",
   "metadata": {
    "ExecuteTime": {
     "end_time": "2022-09-06T02:01:59.213112Z",
     "start_time": "2022-09-06T02:01:59.198473Z"
    }
   },
   "outputs": [
    {
     "data": {
      "text/plain": [
       "11961.10    2\n",
       "18676.57    2\n",
       "19914.82    2\n",
       "24509.74    2\n",
       "16581.60    2\n",
       "           ..\n",
       "10477.52    1\n",
       "14153.96    1\n",
       "34568.53    1\n",
       "13662.14    1\n",
       "24363.31    1\n",
       "Name: PIB, Length: 177, dtype: int64"
      ]
     },
     "execution_count": 8,
     "metadata": {},
     "output_type": "execute_result"
    }
   ],
   "source": [
    "#verificação de dados repetido no código\n",
    "bd['PIB'].value_counts()"
   ]
  },
  {
   "cell_type": "code",
   "execution_count": 9,
   "id": "7cf89aa1",
   "metadata": {
    "ExecuteTime": {
     "end_time": "2022-09-06T02:01:59.229048Z",
     "start_time": "2022-09-06T02:01:59.214087Z"
    }
   },
   "outputs": [
    {
     "data": {
      "text/plain": [
       "97594.98     4\n",
       "760.00       4\n",
       "208240.50    4\n",
       "147767.38    4\n",
       "58868.19     4\n",
       "            ..\n",
       "92380.20     1\n",
       "109582.13    1\n",
       "193840.83    1\n",
       "98001.49     1\n",
       "172.13       1\n",
       "Name: VALOREMPENHO, Length: 172, dtype: int64"
      ]
     },
     "execution_count": 9,
     "metadata": {},
     "output_type": "execute_result"
    }
   ],
   "source": [
    "#verificação de dados repetido no código\n",
    "bd['VALOREMPENHO'].value_counts()"
   ]
  },
  {
   "cell_type": "markdown",
   "id": "0f46ab67",
   "metadata": {},
   "source": [
    "- Há dados repetidos em cada atributo (coluna)"
   ]
  },
  {
   "cell_type": "markdown",
   "id": "877bc35a",
   "metadata": {},
   "source": [
    "## Análise PIB"
   ]
  },
  {
   "cell_type": "markdown",
   "id": "1a3725d1",
   "metadata": {},
   "source": [
    "- O que podemo inferir dos parâmetros estatísticos?\n",
    "- Qual município com o valor máx. do PIB\n",
    "- Qual município com o valor min. do PIB\n",
    "- O que pode ser inferido do desvio padrão?\n",
    "- Qual discrepância entre média e 50%"
   ]
  },
  {
   "cell_type": "code",
   "execution_count": 10,
   "id": "1b3fb84d",
   "metadata": {
    "ExecuteTime": {
     "end_time": "2022-09-06T02:01:59.245004Z",
     "start_time": "2022-09-06T02:01:59.230044Z"
    }
   },
   "outputs": [
    {
     "data": {
      "text/plain": [
       "count       187.000000\n",
       "mean      19808.741337\n",
       "std       16984.223244\n",
       "min        8236.630000\n",
       "25%       13621.455000\n",
       "50%       17206.190000\n",
       "75%       21429.165000\n",
       "max      223848.220000\n",
       "Name: PIB, dtype: float64"
      ]
     },
     "execution_count": 10,
     "metadata": {},
     "output_type": "execute_result"
    }
   ],
   "source": [
    "bd['PIB'].describe()"
   ]
  },
  {
   "cell_type": "markdown",
   "id": "cdbf1a44",
   "metadata": {},
   "source": [
    "**mean** e **50%** não estão tão distantes"
   ]
  },
  {
   "cell_type": "code",
   "execution_count": 11,
   "id": "a990a432",
   "metadata": {
    "ExecuteTime": {
     "end_time": "2022-09-06T02:01:59.259968Z",
     "start_time": "2022-09-06T02:01:59.247001Z"
    }
   },
   "outputs": [
    {
     "data": {
      "text/html": [
       "<div>\n",
       "<style scoped>\n",
       "    .dataframe tbody tr th:only-of-type {\n",
       "        vertical-align: middle;\n",
       "    }\n",
       "\n",
       "    .dataframe tbody tr th {\n",
       "        vertical-align: top;\n",
       "    }\n",
       "\n",
       "    .dataframe thead th {\n",
       "        text-align: right;\n",
       "    }\n",
       "</style>\n",
       "<table border=\"1\" class=\"dataframe\">\n",
       "  <thead>\n",
       "    <tr style=\"text-align: right;\">\n",
       "      <th></th>\n",
       "      <th>CODIGO</th>\n",
       "      <th>MUNICIPIO</th>\n",
       "      <th>PIB</th>\n",
       "      <th>VALOREMPENHO</th>\n",
       "    </tr>\n",
       "  </thead>\n",
       "  <tbody>\n",
       "    <tr>\n",
       "      <th>49</th>\n",
       "      <td>149</td>\n",
       "      <td>TRIUNFO</td>\n",
       "      <td>223848.22</td>\n",
       "      <td>1442759.82</td>\n",
       "    </tr>\n",
       "  </tbody>\n",
       "</table>\n",
       "</div>"
      ],
      "text/plain": [
       "    CODIGO MUNICIPIO        PIB  VALOREMPENHO\n",
       "49     149   TRIUNFO  223848.22    1442759.82"
      ]
     },
     "execution_count": 11,
     "metadata": {},
     "output_type": "execute_result"
    }
   ],
   "source": [
    "bd[bd['PIB']==bd['PIB'].max()]"
   ]
  },
  {
   "cell_type": "code",
   "execution_count": 12,
   "id": "b4d2a394",
   "metadata": {
    "ExecuteTime": {
     "end_time": "2022-09-06T02:01:59.290947Z",
     "start_time": "2022-09-06T02:01:59.261958Z"
    },
    "scrolled": true
   },
   "outputs": [
    {
     "data": {
      "text/html": [
       "<div>\n",
       "<style scoped>\n",
       "    .dataframe tbody tr th:only-of-type {\n",
       "        vertical-align: middle;\n",
       "    }\n",
       "\n",
       "    .dataframe tbody tr th {\n",
       "        vertical-align: top;\n",
       "    }\n",
       "\n",
       "    .dataframe thead th {\n",
       "        text-align: right;\n",
       "    }\n",
       "</style>\n",
       "<table border=\"1\" class=\"dataframe\">\n",
       "  <thead>\n",
       "    <tr style=\"text-align: right;\">\n",
       "      <th></th>\n",
       "      <th>CODIGO</th>\n",
       "      <th>MUNICIPIO</th>\n",
       "      <th>PIB</th>\n",
       "      <th>VALOREMPENHO</th>\n",
       "    </tr>\n",
       "  </thead>\n",
       "  <tbody>\n",
       "    <tr>\n",
       "      <th>88</th>\n",
       "      <td>216</td>\n",
       "      <td>REDENTORA</td>\n",
       "      <td>8236.63</td>\n",
       "      <td>60134.0</td>\n",
       "    </tr>\n",
       "  </tbody>\n",
       "</table>\n",
       "</div>"
      ],
      "text/plain": [
       "    CODIGO  MUNICIPIO      PIB  VALOREMPENHO\n",
       "88     216  REDENTORA  8236.63       60134.0"
      ]
     },
     "execution_count": 12,
     "metadata": {},
     "output_type": "execute_result"
    }
   ],
   "source": [
    "bd[bd['PIB']==bd['PIB'].min()]"
   ]
  },
  {
   "cell_type": "code",
   "execution_count": 13,
   "id": "840966b7",
   "metadata": {
    "ExecuteTime": {
     "end_time": "2022-09-06T02:01:59.985364Z",
     "start_time": "2022-09-06T02:01:59.294951Z"
    }
   },
   "outputs": [
    {
     "data": {
      "text/plain": [
       "<seaborn.axisgrid.FacetGrid at 0x2420c7b5eb0>"
      ]
     },
     "execution_count": 13,
     "metadata": {},
     "output_type": "execute_result"
    },
    {
     "data": {
      "image/png": "[encoded data removed]",
      "text/plain": [
       "<Figure size 360x360 with 1 Axes>"
      ]
     },
     "metadata": {
      "needs_background": "light"
     },
     "output_type": "display_data"
    }
   ],
   "source": [
    "#Histograma PIB\n",
    "sns.displot(bd['PIB'])"
   ]
  },
  {
   "cell_type": "code",
   "execution_count": 14,
   "id": "6b573a84",
   "metadata": {
    "ExecuteTime": {
     "end_time": "2022-09-06T02:02:00.111031Z",
     "start_time": "2022-09-06T02:01:59.986363Z"
    }
   },
   "outputs": [
    {
     "data": {
      "text/plain": [
       "Text(0.5, 1.0, 'PIB')"
      ]
     },
     "execution_count": 14,
     "metadata": {},
     "output_type": "execute_result"
    },
    {
     "data": {
      "image/png": "[encoded data removed]",
      "text/plain": [
       "<Figure size 432x288 with 1 Axes>"
      ]
     },
     "metadata": {},
     "output_type": "display_data"
    }
   ],
   "source": [
    "#Boxplot pode-se ver melhor os valores totalmente fora do conjunto concentrado de dados\n",
    "sns.set_theme(style=\"whitegrid\")\n",
    "sns.boxplot(x=bd[\"PIB\"]).set_title('PIB')"
   ]
  },
  {
   "cell_type": "code",
   "execution_count": 22,
   "id": "19027b5f",
   "metadata": {
    "ExecuteTime": {
     "end_time": "2022-09-06T02:08:30.851856Z",
     "start_time": "2022-09-06T02:08:30.817904Z"
    }
   },
   "outputs": [
    {
     "ename": "ValueError",
     "evalue": "Could not interpret value `ValorEmpenho` for parameter `x`",
     "output_type": "error",
     "traceback": [
      "\u001b[1;31m---------------------------------------------------------------------------\u001b[0m",
      "\u001b[1;31mValueError\u001b[0m                                Traceback (most recent call last)",
      "\u001b[1;32mC:\\Users\\CHRIST~1\\AppData\\Local\\Temp/ipykernel_14124/3725841811.py\u001b[0m in \u001b[0;36m<module>\u001b[1;34m\u001b[0m\n\u001b[1;32m----> 1\u001b[1;33m \u001b[0msns\u001b[0m\u001b[1;33m.\u001b[0m\u001b[0mhistplot\u001b[0m\u001b[1;33m(\u001b[0m\u001b[0mdata\u001b[0m \u001b[1;33m=\u001b[0m \u001b[0mbd\u001b[0m\u001b[1;33m,\u001b[0m \u001b[0mx\u001b[0m \u001b[1;33m=\u001b[0m \u001b[1;34m'ValorEmpenho'\u001b[0m\u001b[1;33m,\u001b[0m \u001b[0my\u001b[0m \u001b[1;33m=\u001b[0m \u001b[1;34m'PIB'\u001b[0m\u001b[1;33m)\u001b[0m\u001b[1;33m.\u001b[0m\u001b[0mset_title\u001b[0m\u001b[1;33m(\u001b[0m\u001b[1;34m'PIB'\u001b[0m\u001b[1;33m)\u001b[0m\u001b[1;33m\u001b[0m\u001b[1;33m\u001b[0m\u001b[0m\n\u001b[0m",
      "\u001b[1;32m~\\anaconda3\\lib\\site-packages\\seaborn\\distributions.py\u001b[0m in \u001b[0;36mhistplot\u001b[1;34m(data, x, y, hue, weights, stat, bins, binwidth, binrange, discrete, cumulative, common_bins, common_norm, multiple, element, fill, shrink, kde, kde_kws, line_kws, thresh, pthresh, pmax, cbar, cbar_ax, cbar_kws, palette, hue_order, hue_norm, color, log_scale, legend, ax, **kwargs)\u001b[0m\n\u001b[0;32m   1428\u001b[0m ):\n\u001b[0;32m   1429\u001b[0m \u001b[1;33m\u001b[0m\u001b[0m\n\u001b[1;32m-> 1430\u001b[1;33m     p = _DistributionPlotter(\n\u001b[0m\u001b[0;32m   1431\u001b[0m         \u001b[0mdata\u001b[0m\u001b[1;33m=\u001b[0m\u001b[0mdata\u001b[0m\u001b[1;33m,\u001b[0m\u001b[1;33m\u001b[0m\u001b[1;33m\u001b[0m\u001b[0m\n\u001b[0;32m   1432\u001b[0m         \u001b[0mvariables\u001b[0m\u001b[1;33m=\u001b[0m\u001b[0m_DistributionPlotter\u001b[0m\u001b[1;33m.\u001b[0m\u001b[0mget_semantics\u001b[0m\u001b[1;33m(\u001b[0m\u001b[0mlocals\u001b[0m\u001b[1;33m(\u001b[0m\u001b[1;33m)\u001b[0m\u001b[1;33m)\u001b[0m\u001b[1;33m\u001b[0m\u001b[1;33m\u001b[0m\u001b[0m\n",
      "\u001b[1;32m~\\anaconda3\\lib\\site-packages\\seaborn\\distributions.py\u001b[0m in \u001b[0;36m__init__\u001b[1;34m(self, data, variables)\u001b[0m\n\u001b[0;32m    109\u001b[0m     ):\n\u001b[0;32m    110\u001b[0m \u001b[1;33m\u001b[0m\u001b[0m\n\u001b[1;32m--> 111\u001b[1;33m         \u001b[0msuper\u001b[0m\u001b[1;33m(\u001b[0m\u001b[1;33m)\u001b[0m\u001b[1;33m.\u001b[0m\u001b[0m__init__\u001b[0m\u001b[1;33m(\u001b[0m\u001b[0mdata\u001b[0m\u001b[1;33m=\u001b[0m\u001b[0mdata\u001b[0m\u001b[1;33m,\u001b[0m \u001b[0mvariables\u001b[0m\u001b[1;33m=\u001b[0m\u001b[0mvariables\u001b[0m\u001b[1;33m)\u001b[0m\u001b[1;33m\u001b[0m\u001b[1;33m\u001b[0m\u001b[0m\n\u001b[0m\u001b[0;32m    112\u001b[0m \u001b[1;33m\u001b[0m\u001b[0m\n\u001b[0;32m    113\u001b[0m     \u001b[1;33m@\u001b[0m\u001b[0mproperty\u001b[0m\u001b[1;33m\u001b[0m\u001b[1;33m\u001b[0m\u001b[0m\n",
      "\u001b[1;32m~\\anaconda3\\lib\\site-packages\\seaborn\\_core.py\u001b[0m in \u001b[0;36m__init__\u001b[1;34m(self, data, variables)\u001b[0m\n\u001b[0;32m    603\u001b[0m     \u001b[1;32mdef\u001b[0m \u001b[0m__init__\u001b[0m\u001b[1;33m(\u001b[0m\u001b[0mself\u001b[0m\u001b[1;33m,\u001b[0m \u001b[0mdata\u001b[0m\u001b[1;33m=\u001b[0m\u001b[1;32mNone\u001b[0m\u001b[1;33m,\u001b[0m \u001b[0mvariables\u001b[0m\u001b[1;33m=\u001b[0m\u001b[1;33m{\u001b[0m\u001b[1;33m}\u001b[0m\u001b[1;33m)\u001b[0m\u001b[1;33m:\u001b[0m\u001b[1;33m\u001b[0m\u001b[1;33m\u001b[0m\u001b[0m\n\u001b[0;32m    604\u001b[0m \u001b[1;33m\u001b[0m\u001b[0m\n\u001b[1;32m--> 605\u001b[1;33m         \u001b[0mself\u001b[0m\u001b[1;33m.\u001b[0m\u001b[0massign_variables\u001b[0m\u001b[1;33m(\u001b[0m\u001b[0mdata\u001b[0m\u001b[1;33m,\u001b[0m \u001b[0mvariables\u001b[0m\u001b[1;33m)\u001b[0m\u001b[1;33m\u001b[0m\u001b[1;33m\u001b[0m\u001b[0m\n\u001b[0m\u001b[0;32m    606\u001b[0m \u001b[1;33m\u001b[0m\u001b[0m\n\u001b[0;32m    607\u001b[0m         \u001b[1;32mfor\u001b[0m \u001b[0mvar\u001b[0m\u001b[1;33m,\u001b[0m \u001b[0mcls\u001b[0m \u001b[1;32min\u001b[0m \u001b[0mself\u001b[0m\u001b[1;33m.\u001b[0m\u001b[0m_semantic_mappings\u001b[0m\u001b[1;33m.\u001b[0m\u001b[0mitems\u001b[0m\u001b[1;33m(\u001b[0m\u001b[1;33m)\u001b[0m\u001b[1;33m:\u001b[0m\u001b[1;33m\u001b[0m\u001b[1;33m\u001b[0m\u001b[0m\n",
      "\u001b[1;32m~\\anaconda3\\lib\\site-packages\\seaborn\\_core.py\u001b[0m in \u001b[0;36massign_variables\u001b[1;34m(self, data, variables)\u001b[0m\n\u001b[0;32m    666\u001b[0m         \u001b[1;32melse\u001b[0m\u001b[1;33m:\u001b[0m\u001b[1;33m\u001b[0m\u001b[1;33m\u001b[0m\u001b[0m\n\u001b[0;32m    667\u001b[0m             \u001b[0mself\u001b[0m\u001b[1;33m.\u001b[0m\u001b[0minput_format\u001b[0m \u001b[1;33m=\u001b[0m \u001b[1;34m\"long\"\u001b[0m\u001b[1;33m\u001b[0m\u001b[1;33m\u001b[0m\u001b[0m\n\u001b[1;32m--> 668\u001b[1;33m             plot_data, variables = self._assign_variables_longform(\n\u001b[0m\u001b[0;32m    669\u001b[0m                 \u001b[0mdata\u001b[0m\u001b[1;33m,\u001b[0m \u001b[1;33m**\u001b[0m\u001b[0mvariables\u001b[0m\u001b[1;33m,\u001b[0m\u001b[1;33m\u001b[0m\u001b[1;33m\u001b[0m\u001b[0m\n\u001b[0;32m    670\u001b[0m             )\n",
      "\u001b[1;32m~\\anaconda3\\lib\\site-packages\\seaborn\\_core.py\u001b[0m in \u001b[0;36m_assign_variables_longform\u001b[1;34m(self, data, **kwargs)\u001b[0m\n\u001b[0;32m    901\u001b[0m \u001b[1;33m\u001b[0m\u001b[0m\n\u001b[0;32m    902\u001b[0m                 \u001b[0merr\u001b[0m \u001b[1;33m=\u001b[0m \u001b[1;34mf\"Could not interpret value `{val}` for parameter `{key}`\"\u001b[0m\u001b[1;33m\u001b[0m\u001b[1;33m\u001b[0m\u001b[0m\n\u001b[1;32m--> 903\u001b[1;33m                 \u001b[1;32mraise\u001b[0m \u001b[0mValueError\u001b[0m\u001b[1;33m(\u001b[0m\u001b[0merr\u001b[0m\u001b[1;33m)\u001b[0m\u001b[1;33m\u001b[0m\u001b[1;33m\u001b[0m\u001b[0m\n\u001b[0m\u001b[0;32m    904\u001b[0m \u001b[1;33m\u001b[0m\u001b[0m\n\u001b[0;32m    905\u001b[0m             \u001b[1;32melse\u001b[0m\u001b[1;33m:\u001b[0m\u001b[1;33m\u001b[0m\u001b[1;33m\u001b[0m\u001b[0m\n",
      "\u001b[1;31mValueError\u001b[0m: Could not interpret value `ValorEmpenho` for parameter `x`"
     ]
    }
   ],
   "source": [
    "sns.histplot(data = bd, x = 'ValorEmpenho', y = 'PIB').set_title('PIB')"
   ]
  },
  {
   "cell_type": "code",
   "execution_count": null,
   "id": "c5d8743b",
   "metadata": {
    "ExecuteTime": {
     "end_time": "2022-09-06T02:02:00.268881Z",
     "start_time": "2022-09-06T02:02:00.268881Z"
    }
   },
   "outputs": [],
   "source": [
    "plt.rcParams['figure.figsize'] = (11, 7)\n",
    "plt.scatter(bdm.PIB, bdm.ValorEmpenho, color = 'blue', facecolors = 'none', marker = '*') \n",
    "plt.xticks(np.arange(np.min(bdm.PIB[:]), np.max(bdm.PIB[:]), 10))\n",
    "plt.title('Árvores')\n",
    "plt.xlabel('Volume')\n",
    "plt.ylabel('Circunferência')\n"
   ]
  },
  {
   "cell_type": "markdown",
   "id": "b2db9c1c",
   "metadata": {},
   "source": [
    "## Análise ValorEmpenho"
   ]
  },
  {
   "cell_type": "code",
   "execution_count": 16,
   "id": "d85580a4",
   "metadata": {
    "ExecuteTime": {
     "end_time": "2022-09-06T02:02:02.933176Z",
     "start_time": "2022-09-06T02:02:02.913231Z"
    }
   },
   "outputs": [
    {
     "data": {
      "text/plain": [
       "count    1.870000e+02\n",
       "mean     1.299844e+05\n",
       "std      1.615491e+05\n",
       "min      1.721300e+02\n",
       "25%      5.251718e+04\n",
       "50%      8.422816e+04\n",
       "75%      1.538961e+05\n",
       "max      1.442760e+06\n",
       "Name: VALOREMPENHO, dtype: float64"
      ]
     },
     "execution_count": 16,
     "metadata": {},
     "output_type": "execute_result"
    }
   ],
   "source": [
    "bd['VALOREMPENHO'].describe()"
   ]
  },
  {
   "cell_type": "markdown",
   "id": "3d2a09e1",
   "metadata": {},
   "source": [
    " - A diferença entre 'mean' e o 50% é grande."
   ]
  },
  {
   "cell_type": "code",
   "execution_count": 17,
   "id": "3928bb8a",
   "metadata": {
    "ExecuteTime": {
     "end_time": "2022-09-06T02:03:16.613378Z",
     "start_time": "2022-09-06T02:03:16.601411Z"
    }
   },
   "outputs": [
    {
     "data": {
      "text/html": [
       "<div>\n",
       "<style scoped>\n",
       "    .dataframe tbody tr th:only-of-type {\n",
       "        vertical-align: middle;\n",
       "    }\n",
       "\n",
       "    .dataframe tbody tr th {\n",
       "        vertical-align: top;\n",
       "    }\n",
       "\n",
       "    .dataframe thead th {\n",
       "        text-align: right;\n",
       "    }\n",
       "</style>\n",
       "<table border=\"1\" class=\"dataframe\">\n",
       "  <thead>\n",
       "    <tr style=\"text-align: right;\">\n",
       "      <th></th>\n",
       "      <th>CODIGO</th>\n",
       "      <th>MUNICIPIO</th>\n",
       "      <th>PIB</th>\n",
       "      <th>VALOREMPENHO</th>\n",
       "    </tr>\n",
       "  </thead>\n",
       "  <tbody>\n",
       "    <tr>\n",
       "      <th>49</th>\n",
       "      <td>149</td>\n",
       "      <td>TRIUNFO</td>\n",
       "      <td>223848.22</td>\n",
       "      <td>1442759.82</td>\n",
       "    </tr>\n",
       "  </tbody>\n",
       "</table>\n",
       "</div>"
      ],
      "text/plain": [
       "    CODIGO MUNICIPIO        PIB  VALOREMPENHO\n",
       "49     149   TRIUNFO  223848.22    1442759.82"
      ]
     },
     "execution_count": 17,
     "metadata": {},
     "output_type": "execute_result"
    }
   ],
   "source": [
    "bd[bd['VALOREMPENHO']==bd['VALOREMPENHO'].max()]"
   ]
  },
  {
   "cell_type": "code",
   "execution_count": 18,
   "id": "e47db658",
   "metadata": {
    "ExecuteTime": {
     "end_time": "2022-09-06T02:03:47.049614Z",
     "start_time": "2022-09-06T02:03:47.033634Z"
    }
   },
   "outputs": [
    {
     "data": {
      "text/html": [
       "<div>\n",
       "<style scoped>\n",
       "    .dataframe tbody tr th:only-of-type {\n",
       "        vertical-align: middle;\n",
       "    }\n",
       "\n",
       "    .dataframe tbody tr th {\n",
       "        vertical-align: top;\n",
       "    }\n",
       "\n",
       "    .dataframe thead th {\n",
       "        text-align: right;\n",
       "    }\n",
       "</style>\n",
       "<table border=\"1\" class=\"dataframe\">\n",
       "  <thead>\n",
       "    <tr style=\"text-align: right;\">\n",
       "      <th></th>\n",
       "      <th>CODIGO</th>\n",
       "      <th>MUNICIPIO</th>\n",
       "      <th>PIB</th>\n",
       "      <th>VALOREMPENHO</th>\n",
       "    </tr>\n",
       "  </thead>\n",
       "  <tbody>\n",
       "    <tr>\n",
       "      <th>186</th>\n",
       "      <td>60</td>\n",
       "      <td>GUARANI DAS MISSOES</td>\n",
       "      <td>24363.31</td>\n",
       "      <td>172.13</td>\n",
       "    </tr>\n",
       "  </tbody>\n",
       "</table>\n",
       "</div>"
      ],
      "text/plain": [
       "     CODIGO            MUNICIPIO       PIB  VALOREMPENHO\n",
       "186      60  GUARANI DAS MISSOES  24363.31        172.13"
      ]
     },
     "execution_count": 18,
     "metadata": {},
     "output_type": "execute_result"
    }
   ],
   "source": [
    "bd[bd['VALOREMPENHO']==bd['VALOREMPENHO'].min()]"
   ]
  },
  {
   "cell_type": "markdown",
   "id": "9a85ea72",
   "metadata": {},
   "source": [
    "- Os municípios com o valor empenho máximo e mínimo diferem dos municípios com valor máximo e mínimo de PIB"
   ]
  },
  {
   "cell_type": "code",
   "execution_count": 19,
   "id": "7b94a2bc",
   "metadata": {
    "ExecuteTime": {
     "end_time": "2022-09-06T02:06:21.264203Z",
     "start_time": "2022-09-06T02:06:21.009822Z"
    }
   },
   "outputs": [
    {
     "data": {
      "text/plain": [
       "<seaborn.axisgrid.FacetGrid at 0x2420c915b50>"
      ]
     },
     "execution_count": 19,
     "metadata": {},
     "output_type": "execute_result"
    },
    {
     "data": {
      "image/png": "[encoded data removed]",
      "text/plain": [
       "<Figure size 360x360 with 1 Axes>"
      ]
     },
     "metadata": {},
     "output_type": "display_data"
    }
   ],
   "source": [
    "#Histograma\n",
    "sns.displot(bd['VALOREMPENHO'])"
   ]
  },
  {
   "cell_type": "markdown",
   "id": "d25d7062",
   "metadata": {},
   "source": [
    "- O gráfico histograma do ValorEmpenho parece com o histograma do PIB "
   ]
  },
  {
   "cell_type": "code",
   "execution_count": 20,
   "id": "d3b625c8",
   "metadata": {
    "ExecuteTime": {
     "end_time": "2022-09-06T02:07:47.110663Z",
     "start_time": "2022-09-06T02:07:46.977590Z"
    }
   },
   "outputs": [
    {
     "data": {
      "text/plain": [
       "Text(0.5, 1.0, 'VALOREMPENHO')"
      ]
     },
     "execution_count": 20,
     "metadata": {},
     "output_type": "execute_result"
    },
    {
     "data": {
      "image/png": "[encoded data removed]",
      "text/plain": [
       "<Figure size 432x288 with 1 Axes>"
      ]
     },
     "metadata": {},
     "output_type": "display_data"
    }
   ],
   "source": [
    "#Boxplot pode-se ver melhor os valores totalmente fora do conjunto concentrado de dados\n",
    "sns.set_theme(style=\"whitegrid\")\n",
    "sns.boxplot(x=bd[\"VALOREMPENHO\"]).set_title('VALOREMPENHO')"
   ]
  }
 ],
 "metadata": {
  "kernelspec": {
   "display_name": "Python 3 (ipykernel)",
   "language": "python",
   "name": "python3"
  },
  "language_info": {
   "codemirror_mode": {
    "name": "ipython",
    "version": 3
   },
   "file_extension": ".py",
   "mimetype": "text/x-python",
   "name": "python",
   "nbconvert_exporter": "python",
   "pygments_lexer": "ipython3",
   "version": "3.9.7"
  },
  "toc": {
   "base_numbering": 1,
   "nav_menu": {},
   "number_sections": true,
   "sideBar": true,
   "skip_h1_title": false,
   "title_cell": "Table of Contents",
   "title_sidebar": "Contents",
   "toc_cell": false,
   "toc_position": {
    "height": "calc(100% - 180px)",
    "left": "10px",
    "top": "150px",
    "width": "333px"
   },
   "toc_section_display": true,
   "toc_window_display": true
  }
 },
 "nbformat": 4,
 "nbformat_minor": 5
}
