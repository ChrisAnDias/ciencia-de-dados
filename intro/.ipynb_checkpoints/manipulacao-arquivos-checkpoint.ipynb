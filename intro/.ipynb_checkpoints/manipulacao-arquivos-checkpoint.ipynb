{
 "cells": [
  {
   "cell_type": "markdown",
   "id": "49059a43",
   "metadata": {},
   "source": [
    "# Manipulação de arquivo"
   ]
  },
  {
   "cell_type": "markdown",
   "id": "605ff69c",
   "metadata": {},
   "source": [
    "- Usar a função open()\n",
    "- Se o arquivo estiver na mesma pasta do arquivo notebook, basta digitar entre parênteses e aspas o nome do arquivo.\n",
    "- Caso o arquivo esteja numa pasta antes, basta adionar antes do nome do arquivo uma sequencia de ../ para cada pasta acima que estiver o arquivo. \n",
    "    ' ../dom_casmurro.txt '\n",
    "- Caso esteja uma pasta depois, basta adicionar o nome da pasta seguido de barra antes do nome do arquivo\n",
    "    ' dados/dom_casmurro.txt '\n",
    "- Para a função open() serão necessários passar o 1º parâmetro que é o nome do arquivo. O 2º parâmetro é o modo de abertura."
   ]
  },
  {
   "cell_type": "markdown",
   "id": "cf397c9f",
   "metadata": {},
   "source": [
    "## Abertura de arquivo"
   ]
  },
  {
   "cell_type": "code",
   "execution_count": 2,
   "id": "68bb2e71",
   "metadata": {
    "ExecuteTime": {
     "end_time": "2022-09-16T02:50:36.427018Z",
     "start_time": "2022-09-16T02:50:36.416045Z"
    }
   },
   "outputs": [
    {
     "name": "stdout",
     "output_type": "stream",
     "text": [
      "Dom Casmurro \n",
      "\n",
      "Texto de referenda: \n",
      "Obras Completas de Machado de Assis, vol. I, \n",
      "Nova Aguilar, Rio de Janeiro, 1994. \n",
      "Publicado originalmente pela Editora Gamier, Rio de Janeiro, 1899. \n",
      "\n",
      "\n",
      "CAPITULO PRIMEIRO \n",
      "DO TITULO \n",
      "\n",
      "Uma noite destas, vindo da cidade para o Engenho Novo, encontrei no trem da \n",
      "Central um rapaz aqui do bairro, que eu conhego de vista e de chapeu. \n",
      "Cumprimentou-me, sentou-se ao pe de mim, falou da Lua e dos ministros, e \n",
      "acabou recitando-me versos. A viagem era curta, e os versos pode ser que nao \n",
      "fossem inteiramente maus. Sucedeu, porem, que, como eu estava cansado, fechei \n",
      "os olhos tres ou quatro vezes; tanto bastou para que ele interrompesse a leitura e \n",
      "metesse os versos no bolso. \n",
      "\n",
      "— Continue, disse eu acordando. \n",
      "\n",
      "— Ja acabei, murmurou ele. \n",
      "\n",
      "— Sao muito bonitos. \n",
      "\n",
      "Vi-lhe fazer um gesto para tira-los outra vez do bolso, mas nao passou do gesto; \n",
      "estava amuado. No dia seguinte entrou a dizer de mim nomes feios, e acabou \n",
      "alcunhando-me Dom Casmurro. Os vizinhos, que nao gostam dos meus habitos \n",
      "reclusos e calados, deram curso a alcunha, que afinal pegou. Nem por isso me \n",
      "zanguei. Contei a anedota aos amigos da cidade, e eles, por graga, chamam-me \n",
      "assim, alguns em bilhetes: \"Dom Casmurro, domingo vou jantar com voce”.— \n",
      "\"Vou para Petropolis, Dom Casmurro; a casa e a mesma da Renania; ve se deixas \n",
      "essa caverna do Engenho Novo, e vai la passar uns quinze dias comigo\".— \"Meu \n",
      "caro Dom Casmurro, nao cuide que o dispenso do teatro amanha; venha e dormira \n",
      "aqui na cidade; dou-lhe camarote, dou-lhe cha, dou-lhe cama; so nao Ihe dou \n",
      "moga”. \n",
      "\n",
      "Nao consultes dicionarios. Casmurro nao esta aqui no sentido que eles Ihe dao, \n",
      "mas no que Ihe pos o vulgo de homem calado e metido consigo. Dom veio por \n",
      "ironia, para atribuir-me fumos de fidalgo. Tudo por estar cochilando! Tambem nao \n",
      "achei melhor titulo para a minha narracao; se nao tiver outro daqui ate ao fim do \n",
      "livro, vai este mesmo. O meu poeta do trem ficara sabendo que nao Ihe guardo \n",
      "rancor. E com pequeno esforco, sendo o titulo seu, podera cuidar que a obra e \n",
      "sua. Ha livros que apenas terao isso dos seus autores; alguns nem tanto. \n",
      "\n"
     ]
    }
   ],
   "source": [
    "arquivo = open('dom_casmurro.txt', 'r', encoding = 'utf-8') # 'r' modo de abertura é read, leitura\n",
    "texto = arquivo.read()\n",
    "print(texto)\n",
    "arquivo.close()"
   ]
  },
  {
   "cell_type": "markdown",
   "id": "3a43f537",
   "metadata": {},
   "source": [
    "- O **arquivo.close()** é necessário porque a conexão como texto precisa ser fechada depois de aberta, devido a questões de segurança.\n",
    "- Foi necessário acrescentar o parâmetro *encoding = 'utf-8'* porque sem ele foi retornado errro. Devido a versão do jupyter notebook. "
   ]
  },
  {
   "cell_type": "markdown",
   "id": "acb317d0",
   "metadata": {},
   "source": [
    "## readline() com while"
   ]
  },
  {
   "cell_type": "code",
   "execution_count": 3,
   "id": "a1171072",
   "metadata": {
    "ExecuteTime": {
     "end_time": "2022-09-16T02:55:43.649833Z",
     "start_time": "2022-09-16T02:55:43.641828Z"
    }
   },
   "outputs": [
    {
     "name": "stdout",
     "output_type": "stream",
     "text": [
      "Dom Casmurro \n",
      "\n",
      "Texto de referenda: \n",
      "Obras Completas de Machado de Assis, vol. I, \n",
      "Nova Aguilar, Rio de Janeiro, 1994. \n",
      "Publicado originalmente pela Editora Gamier, Rio de Janeiro, 1899. \n",
      "\n",
      "\n",
      "CAPITULO PRIMEIRO \n",
      "DO TITULO \n",
      "\n",
      "Uma noite destas, vindo da cidade para o Engenho Novo, encontrei no trem da \n",
      "Central um rapaz aqui do bairro, que eu conhego de vista e de chapeu. \n",
      "Cumprimentou-me, sentou-se ao pe de mim, falou da Lua e dos ministros, e \n",
      "acabou recitando-me versos. A viagem era curta, e os versos pode ser que nao \n",
      "fossem inteiramente maus. Sucedeu, porem, que, como eu estava cansado, fechei \n",
      "os olhos tres ou quatro vezes; tanto bastou para que ele interrompesse a leitura e \n",
      "metesse os versos no bolso. \n",
      "\n",
      "— Continue, disse eu acordando. \n",
      "\n",
      "— Ja acabei, murmurou ele. \n",
      "\n",
      "— Sao muito bonitos. \n",
      "\n",
      "Vi-lhe fazer um gesto para tira-los outra vez do bolso, mas nao passou do gesto; \n",
      "estava amuado. No dia seguinte entrou a dizer de mim nomes feios, e acabou \n",
      "alcunhando-me Dom Casmurro. Os vizinhos, que nao gostam dos meus habitos \n",
      "reclusos e calados, deram curso a alcunha, que afinal pegou. Nem por isso me \n",
      "zanguei. Contei a anedota aos amigos da cidade, e eles, por graga, chamam-me \n",
      "assim, alguns em bilhetes: \"Dom Casmurro, domingo vou jantar com voce”.— \n",
      "\"Vou para Petropolis, Dom Casmurro; a casa e a mesma da Renania; ve se deixas \n",
      "essa caverna do Engenho Novo, e vai la passar uns quinze dias comigo\".— \"Meu \n",
      "caro Dom Casmurro, nao cuide que o dispenso do teatro amanha; venha e dormira \n",
      "aqui na cidade; dou-lhe camarote, dou-lhe cha, dou-lhe cama; so nao Ihe dou \n",
      "moga”. \n",
      "\n",
      "Nao consultes dicionarios. Casmurro nao esta aqui no sentido que eles Ihe dao, \n",
      "mas no que Ihe pos o vulgo de homem calado e metido consigo. Dom veio por \n",
      "ironia, para atribuir-me fumos de fidalgo. Tudo por estar cochilando! Tambem nao \n",
      "achei melhor titulo para a minha narracao; se nao tiver outro daqui ate ao fim do \n",
      "livro, vai este mesmo. O meu poeta do trem ficara sabendo que nao Ihe guardo \n",
      "rancor. E com pequeno esforco, sendo o titulo seu, podera cuidar que a obra e \n",
      "sua. Ha livros que apenas terao isso dos seus autores; alguns nem tanto. \n"
     ]
    }
   ],
   "source": [
    "arquivo = open('dom_casmurro.txt', 'r', encoding = 'utf-8')\n",
    "linha = arquivo.readline()\n",
    "while linha != '':\n",
    "    print(linha, end = '')\n",
    "    linha = arquivo.readline()\n",
    "\n",
    "arquivo.close()"
   ]
  },
  {
   "cell_type": "markdown",
   "id": "a4df8124",
   "metadata": {},
   "source": [
    "- Acima foi utilizado outra técnica para percorrer o texto. Utilizou-se a função *readline()*.\n",
    "- A função *readline()* retorna linha-a-linha o texto cada vez que chamada. Combinando o **while** com o *readline()* foi possível chegar ao mesmo resultado de retorno do texto inteiro do arquivo .txt"
   ]
  },
  {
   "cell_type": "markdown",
   "id": "85c8a93f",
   "metadata": {},
   "source": [
    "## usando o for"
   ]
  },
  {
   "cell_type": "code",
   "execution_count": 4,
   "id": "5f3ab1b2",
   "metadata": {
    "ExecuteTime": {
     "end_time": "2022-09-16T02:59:09.599422Z",
     "start_time": "2022-09-16T02:59:09.587452Z"
    },
    "scrolled": true
   },
   "outputs": [
    {
     "name": "stdout",
     "output_type": "stream",
     "text": [
      "Dom Casmurro \n",
      "\n",
      "Texto de referenda: \n",
      "Obras Completas de Machado de Assis, vol. I, \n",
      "Nova Aguilar, Rio de Janeiro, 1994. \n",
      "Publicado originalmente pela Editora Gamier, Rio de Janeiro, 1899. \n",
      "\n",
      "\n",
      "CAPITULO PRIMEIRO \n",
      "DO TITULO \n",
      "\n",
      "Uma noite destas, vindo da cidade para o Engenho Novo, encontrei no trem da \n",
      "Central um rapaz aqui do bairro, que eu conhego de vista e de chapeu. \n",
      "Cumprimentou-me, sentou-se ao pe de mim, falou da Lua e dos ministros, e \n",
      "acabou recitando-me versos. A viagem era curta, e os versos pode ser que nao \n",
      "fossem inteiramente maus. Sucedeu, porem, que, como eu estava cansado, fechei \n",
      "os olhos tres ou quatro vezes; tanto bastou para que ele interrompesse a leitura e \n",
      "metesse os versos no bolso. \n",
      "\n",
      "— Continue, disse eu acordando. \n",
      "\n",
      "— Ja acabei, murmurou ele. \n",
      "\n",
      "— Sao muito bonitos. \n",
      "\n",
      "Vi-lhe fazer um gesto para tira-los outra vez do bolso, mas nao passou do gesto; \n",
      "estava amuado. No dia seguinte entrou a dizer de mim nomes feios, e acabou \n",
      "alcunhando-me Dom Casmurro. Os vizinhos, que nao gostam dos meus habitos \n",
      "reclusos e calados, deram curso a alcunha, que afinal pegou. Nem por isso me \n",
      "zanguei. Contei a anedota aos amigos da cidade, e eles, por graga, chamam-me \n",
      "assim, alguns em bilhetes: \"Dom Casmurro, domingo vou jantar com voce”.— \n",
      "\"Vou para Petropolis, Dom Casmurro; a casa e a mesma da Renania; ve se deixas \n",
      "essa caverna do Engenho Novo, e vai la passar uns quinze dias comigo\".— \"Meu \n",
      "caro Dom Casmurro, nao cuide que o dispenso do teatro amanha; venha e dormira \n",
      "aqui na cidade; dou-lhe camarote, dou-lhe cha, dou-lhe cama; so nao Ihe dou \n",
      "moga”. \n",
      "\n",
      "Nao consultes dicionarios. Casmurro nao esta aqui no sentido que eles Ihe dao, \n",
      "mas no que Ihe pos o vulgo de homem calado e metido consigo. Dom veio por \n",
      "ironia, para atribuir-me fumos de fidalgo. Tudo por estar cochilando! Tambem nao \n",
      "achei melhor titulo para a minha narracao; se nao tiver outro daqui ate ao fim do \n",
      "livro, vai este mesmo. O meu poeta do trem ficara sabendo que nao Ihe guardo \n",
      "rancor. E com pequeno esforco, sendo o titulo seu, podera cuidar que a obra e \n",
      "sua. Ha livros que apenas terao isso dos seus autores; alguns nem tanto. \n"
     ]
    }
   ],
   "source": [
    "arquivo = open('dom_casmurro.txt', 'r', encoding = 'utf-8')\n",
    "for linha in arquivo:\n",
    "    print(linha, end = '')\n",
    "\n",
    "arquivo.close()"
   ]
  },
  {
   "cell_type": "markdown",
   "id": "b6d5ed53",
   "metadata": {},
   "source": [
    "## Bloco de código. Já com arquivo fechado no final"
   ]
  },
  {
   "cell_type": "code",
   "execution_count": 5,
   "id": "7d225fa2",
   "metadata": {
    "ExecuteTime": {
     "end_time": "2022-09-16T03:01:46.532501Z",
     "start_time": "2022-09-16T03:01:46.520534Z"
    }
   },
   "outputs": [
    {
     "name": "stdout",
     "output_type": "stream",
     "text": [
      "Dom Casmurro \n",
      "\n",
      "Texto de referenda: \n",
      "Obras Completas de Machado de Assis, vol. I, \n",
      "Nova Aguilar, Rio de Janeiro, 1994. \n",
      "Publicado originalmente pela Editora Gamier, Rio de Janeiro, 1899. \n",
      "\n",
      "\n",
      "CAPITULO PRIMEIRO \n",
      "DO TITULO \n",
      "\n",
      "Uma noite destas, vindo da cidade para o Engenho Novo, encontrei no trem da \n",
      "Central um rapaz aqui do bairro, que eu conhego de vista e de chapeu. \n",
      "Cumprimentou-me, sentou-se ao pe de mim, falou da Lua e dos ministros, e \n",
      "acabou recitando-me versos. A viagem era curta, e os versos pode ser que nao \n",
      "fossem inteiramente maus. Sucedeu, porem, que, como eu estava cansado, fechei \n",
      "os olhos tres ou quatro vezes; tanto bastou para que ele interrompesse a leitura e \n",
      "metesse os versos no bolso. \n",
      "\n",
      "— Continue, disse eu acordando. \n",
      "\n",
      "— Ja acabei, murmurou ele. \n",
      "\n",
      "— Sao muito bonitos. \n",
      "\n",
      "Vi-lhe fazer um gesto para tira-los outra vez do bolso, mas nao passou do gesto; \n",
      "estava amuado. No dia seguinte entrou a dizer de mim nomes feios, e acabou \n",
      "alcunhando-me Dom Casmurro. Os vizinhos, que nao gostam dos meus habitos \n",
      "reclusos e calados, deram curso a alcunha, que afinal pegou. Nem por isso me \n",
      "zanguei. Contei a anedota aos amigos da cidade, e eles, por graga, chamam-me \n",
      "assim, alguns em bilhetes: \"Dom Casmurro, domingo vou jantar com voce”.— \n",
      "\"Vou para Petropolis, Dom Casmurro; a casa e a mesma da Renania; ve se deixas \n",
      "essa caverna do Engenho Novo, e vai la passar uns quinze dias comigo\".— \"Meu \n",
      "caro Dom Casmurro, nao cuide que o dispenso do teatro amanha; venha e dormira \n",
      "aqui na cidade; dou-lhe camarote, dou-lhe cha, dou-lhe cama; so nao Ihe dou \n",
      "moga”. \n",
      "\n",
      "Nao consultes dicionarios. Casmurro nao esta aqui no sentido que eles Ihe dao, \n",
      "mas no que Ihe pos o vulgo de homem calado e metido consigo. Dom veio por \n",
      "ironia, para atribuir-me fumos de fidalgo. Tudo por estar cochilando! Tambem nao \n",
      "achei melhor titulo para a minha narracao; se nao tiver outro daqui ate ao fim do \n",
      "livro, vai este mesmo. O meu poeta do trem ficara sabendo que nao Ihe guardo \n",
      "rancor. E com pequeno esforco, sendo o titulo seu, podera cuidar que a obra e \n",
      "sua. Ha livros que apenas terao isso dos seus autores; alguns nem tanto. \n",
      "\n"
     ]
    }
   ],
   "source": [
    "with open('dom_casmurro.txt', 'r', encoding = 'utf-8') as arquivo:\n",
    "    texto = arquivo.read()\n",
    "    print(texto)\n",
    "    "
   ]
  },
  {
   "cell_type": "code",
   "execution_count": 6,
   "id": "1264be36",
   "metadata": {
    "ExecuteTime": {
     "end_time": "2022-09-16T03:02:06.974023Z",
     "start_time": "2022-09-16T03:02:06.959062Z"
    }
   },
   "outputs": [
    {
     "ename": "ValueError",
     "evalue": "I/O operation on closed file.",
     "output_type": "error",
     "traceback": [
      "\u001b[1;31m---------------------------------------------------------------------------\u001b[0m",
      "\u001b[1;31mValueError\u001b[0m                                Traceback (most recent call last)",
      "\u001b[1;32mC:\\Users\\CHRIST~1\\AppData\\Local\\Temp/ipykernel_2840/1726691100.py\u001b[0m in \u001b[0;36m<module>\u001b[1;34m\u001b[0m\n\u001b[1;32m----> 1\u001b[1;33m \u001b[0marquivo\u001b[0m\u001b[1;33m.\u001b[0m\u001b[0mread\u001b[0m\u001b[1;33m(\u001b[0m\u001b[1;33m)\u001b[0m\u001b[1;33m\u001b[0m\u001b[1;33m\u001b[0m\u001b[0m\n\u001b[0m",
      "\u001b[1;31mValueError\u001b[0m: I/O operation on closed file."
     ]
    }
   ],
   "source": [
    "arquivo.read()"
   ]
  },
  {
   "cell_type": "markdown",
   "id": "80e3c7ae",
   "metadata": {},
   "source": [
    "## Criando arquivo novo"
   ]
  },
  {
   "cell_type": "code",
   "execution_count": 7,
   "id": "7409013d",
   "metadata": {
    "ExecuteTime": {
     "end_time": "2022-09-16T03:04:10.246954Z",
     "start_time": "2022-09-16T03:04:10.234985Z"
    }
   },
   "outputs": [],
   "source": [
    "with open('arquivo_teste.txt', 'w', encoding = 'utf-8') as arquivo: #O 'w' cria um arquivo caso não exista, e sobrescreve caso já exista\n",
    "    arquivo.write('Essa é uma linha que eu escrevi usando python\\n')\n",
    "    arquivo.write('Essa é a segunda linha que eu escrevi usando python\\n')"
   ]
  },
  {
   "cell_type": "code",
   "execution_count": 8,
   "id": "59878036",
   "metadata": {
    "ExecuteTime": {
     "end_time": "2022-09-16T03:04:45.187740Z",
     "start_time": "2022-09-16T03:04:45.167794Z"
    }
   },
   "outputs": [
    {
     "name": "stdout",
     "output_type": "stream",
     "text": [
      "Essa é uma linha que eu escrevi usando python\n",
      "Essa é a segunda linha que eu escrevi usando python\n"
     ]
    }
   ],
   "source": [
    "with open('arquivo_teste.txt', 'r', encoding = 'utf-8') as arquivo:\n",
    "    print(arquivo.read(), end = '')\n"
   ]
  },
  {
   "cell_type": "code",
   "execution_count": 9,
   "id": "279d56ff",
   "metadata": {
    "ExecuteTime": {
     "end_time": "2022-09-16T03:05:48.425239Z",
     "start_time": "2022-09-16T03:05:48.411277Z"
    }
   },
   "outputs": [],
   "source": [
    "with open('arquivo_teste.txt', 'a', encoding = 'utf-8') as arquivo: #O 'a' adiciona algo ao texto já criado\n",
    "    arquivo.write('Essa é uma terceir linha que eu escrevi usando python\\n')\n"
   ]
  },
  {
   "cell_type": "code",
   "execution_count": 10,
   "id": "224b8e84",
   "metadata": {
    "ExecuteTime": {
     "end_time": "2022-09-16T03:06:24.552983Z",
     "start_time": "2022-09-16T03:06:24.535004Z"
    }
   },
   "outputs": [
    {
     "name": "stdout",
     "output_type": "stream",
     "text": [
      "Essa é uma linha que eu escrevi usando python\n",
      "Essa é a segunda linha que eu escrevi usando python\n",
      "Essa é uma terceir linha que eu escrevi usando python\n"
     ]
    }
   ],
   "source": [
    "with open('arquivo_teste.txt', 'r', encoding = 'utf-8') as arquivo:\n",
    "    print(arquivo.read(), end = '')\n"
   ]
  },
  {
   "cell_type": "markdown",
   "id": "04933eef",
   "metadata": {},
   "source": [
    "- Além do modo de abertura 'r' (read) 'w'(write) e 'a' (adict) existe também o 'r+' que combina leitura e escrita"
   ]
  },
  {
   "cell_type": "code",
   "execution_count": null,
   "id": "2a9acc10",
   "metadata": {},
   "outputs": [],
   "source": []
  }
 ],
 "metadata": {
  "kernelspec": {
   "display_name": "Python 3 (ipykernel)",
   "language": "python",
   "name": "python3"
  },
  "language_info": {
   "codemirror_mode": {
    "name": "ipython",
    "version": 3
   },
   "file_extension": ".py",
   "mimetype": "text/x-python",
   "name": "python",
   "nbconvert_exporter": "python",
   "pygments_lexer": "ipython3",
   "version": "3.9.7"
  },
  "toc": {
   "base_numbering": 1,
   "nav_menu": {},
   "number_sections": true,
   "sideBar": true,
   "skip_h1_title": false,
   "title_cell": "Table of Contents",
   "title_sidebar": "Contents",
   "toc_cell": false,
   "toc_position": {},
   "toc_section_display": true,
   "toc_window_display": false
  }
 },
 "nbformat": 4,
 "nbformat_minor": 5
}
