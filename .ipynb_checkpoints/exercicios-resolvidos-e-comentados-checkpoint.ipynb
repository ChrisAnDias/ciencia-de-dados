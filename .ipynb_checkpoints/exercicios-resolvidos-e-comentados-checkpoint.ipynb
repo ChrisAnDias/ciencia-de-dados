{
 "cells": [
  {
   "cell_type": "markdown",
   "id": "1886cdfa",
   "metadata": {},
   "source": [
    "# S6: Introdução ao Python"
   ]
  },
  {
   "cell_type": "markdown",
   "id": "21edf666",
   "metadata": {},
   "source": [
    "## Problema 1: Funções"
   ]
  },
  {
   "cell_type": "markdown",
   "id": "07844d17",
   "metadata": {},
   "source": [
    "Fazer uma função **chamada amplitude** em que deve receber uma lista e imprima a amplitude. **(A amplitude é a diferença entre o maior e o menor número de um conjunto de valores).**"
   ]
  },
  {
   "cell_type": "code",
   "execution_count": 2,
   "id": "c6925f66",
   "metadata": {
    "ExecuteTime": {
     "end_time": "2022-08-25T01:05:26.828429Z",
     "start_time": "2022-08-25T01:05:26.808481Z"
    }
   },
   "outputs": [
    {
     "data": {
      "text/plain": [
       "23"
      ]
     },
     "execution_count": 2,
     "metadata": {},
     "output_type": "execute_result"
    }
   ],
   "source": [
    "lista = [1,22,5,6,8]\n",
    "def amplitude():\n",
    "    return (max(lista) + min(lista))\n",
    "\n",
    "amplitude()"
   ]
  },
  {
   "cell_type": "code",
   "execution_count": 3,
   "id": "97cbc2b3",
   "metadata": {
    "ExecuteTime": {
     "end_time": "2022-08-25T01:05:50.699537Z",
     "start_time": "2022-08-25T01:05:26.830424Z"
    }
   },
   "outputs": [
    {
     "name": "stdout",
     "output_type": "stream",
     "text": [
      "Vamos fazer uma lista. Digite abaixo o número que elementoe que você quer que tenha nessa lista:5\n",
      "5\n",
      "5\n",
      "34\n",
      "6\n",
      "7\n",
      "[5, 5, 34, 6, 7]\n",
      "39\n"
     ]
    }
   ],
   "source": [
    "list0 = []\n",
    "n = int(input('Vamos fazer uma lista. Digite abaixo o número que elementoe que você quer que tenha nessa lista:'))\n",
    "for i in range(0, n):\n",
    "        listu = int(input())\n",
    "        \n",
    "        list0.append(listu)\n",
    "        \n",
    "print(list0)\n",
    "        \n",
    "def amplitude(l):\n",
    "    return(max(list0) + min(list0))\n",
    "x = amplitude(list0)\n",
    "print(x)"
   ]
  },
  {
   "cell_type": "markdown",
   "id": "e93edebb",
   "metadata": {},
   "source": [
    "## Problema 2: Funções"
   ]
  },
  {
   "cell_type": "markdown",
   "id": "3c4f2957",
   "metadata": {},
   "source": [
    "Fazer uma função que recebe uma string e retorna esta na vertical."
   ]
  },
  {
   "cell_type": "code",
   "execution_count": 4,
   "id": "41b27224",
   "metadata": {
    "ExecuteTime": {
     "end_time": "2022-08-25T01:05:50.715525Z",
     "start_time": "2022-08-25T01:05:50.700538Z"
    }
   },
   "outputs": [
    {
     "name": "stdout",
     "output_type": "stream",
     "text": [
      "b\n",
      "o\n",
      "l\n",
      "a\n"
     ]
    }
   ],
   "source": [
    "def strv(texto):\n",
    "    for i in range(0,len(texto)):\n",
    "        print(texto[i])\n",
    "\n",
    "strv('bola')\n",
    "\n",
    "    "
   ]
  },
  {
   "cell_type": "markdown",
   "id": "738ea7c9",
   "metadata": {},
   "source": [
    "## Problema 3: Estrutura Condicional"
   ]
  },
  {
   "cell_type": "markdown",
   "id": "020051e6",
   "metadata": {},
   "source": [
    "Criar um programa que leia um peso de uma carga em números inteiros. Se o peso for até 10kg informe que o valor será 50 reais. Se for entre 11 e 20 kg, informe que o valor será 80 reais. E se for maior que 20kg o transporte não será aceito."
   ]
  },
  {
   "cell_type": "code",
   "execution_count": 5,
   "id": "c3e69fe5",
   "metadata": {
    "ExecuteTime": {
     "end_time": "2022-08-25T01:05:58.295603Z",
     "start_time": "2022-08-25T01:05:50.719489Z"
    }
   },
   "outputs": [
    {
     "name": "stdout",
     "output_type": "stream",
     "text": [
      "Insira o valor em kilos da carga:600\n",
      "O transporte não será aceito.\n"
     ]
    }
   ],
   "source": [
    "peso = int(input('Insira o valor em kilos da carga:'))\n",
    "if peso < 10:\n",
    "    print('O valor pago deverá ser de R$ 50,00')\n",
    "if peso >= 11 and peso <= 20:\n",
    "    print('O valor pago será de R$ 80,00')\n",
    "if peso > 20:\n",
    "    print('O transporte não será aceito.')"
   ]
  },
  {
   "cell_type": "markdown",
   "id": "3dcd86f4",
   "metadata": {},
   "source": [
    "# S10: Limpeza e Tratamento de Dados\n"
   ]
  },
  {
   "cell_type": "markdown",
   "id": "12142dde",
   "metadata": {},
   "source": [
    "- Problema Geral: \n",
    "    > Será dado um aqruivo com dados para análise e tratamento deles."
   ]
  },
  {
   "cell_type": "markdown",
   "id": "b7a65252",
   "metadata": {},
   "source": [
    "## Importações"
   ]
  },
  {
   "cell_type": "code",
   "execution_count": 6,
   "id": "0e8e7579",
   "metadata": {
    "ExecuteTime": {
     "end_time": "2022-08-25T01:05:59.320918Z",
     "start_time": "2022-08-25T01:05:58.296599Z"
    }
   },
   "outputs": [],
   "source": [
    "import pandas as pd\n",
    "import seaborn as srn\n",
    "import statistics as sts"
   ]
  },
  {
   "cell_type": "code",
   "execution_count": 7,
   "id": "d5fe9267",
   "metadata": {
    "ExecuteTime": {
     "end_time": "2022-08-25T01:05:59.351865Z",
     "start_time": "2022-08-25T01:05:59.321918Z"
    }
   },
   "outputs": [
    {
     "data": {
      "text/html": [
       "<div>\n",
       "<style scoped>\n",
       "    .dataframe tbody tr th:only-of-type {\n",
       "        vertical-align: middle;\n",
       "    }\n",
       "\n",
       "    .dataframe tbody tr th {\n",
       "        vertical-align: top;\n",
       "    }\n",
       "\n",
       "    .dataframe thead th {\n",
       "        text-align: right;\n",
       "    }\n",
       "</style>\n",
       "<table border=\"1\" class=\"dataframe\">\n",
       "  <thead>\n",
       "    <tr style=\"text-align: right;\">\n",
       "      <th></th>\n",
       "      <th>Aparencia</th>\n",
       "      <th>Temperatura</th>\n",
       "      <th>Umidade</th>\n",
       "      <th>Vento</th>\n",
       "      <th>Jogar</th>\n",
       "    </tr>\n",
       "  </thead>\n",
       "  <tbody>\n",
       "    <tr>\n",
       "      <th>0</th>\n",
       "      <td>sol</td>\n",
       "      <td>85</td>\n",
       "      <td>85.0</td>\n",
       "      <td>FALSO</td>\n",
       "      <td>nao</td>\n",
       "    </tr>\n",
       "    <tr>\n",
       "      <th>1</th>\n",
       "      <td>sol</td>\n",
       "      <td>80</td>\n",
       "      <td>90.0</td>\n",
       "      <td>VERDADEIRO</td>\n",
       "      <td>nao</td>\n",
       "    </tr>\n",
       "    <tr>\n",
       "      <th>2</th>\n",
       "      <td>nublado</td>\n",
       "      <td>83</td>\n",
       "      <td>86.0</td>\n",
       "      <td>FALSO</td>\n",
       "      <td>sim</td>\n",
       "    </tr>\n",
       "    <tr>\n",
       "      <th>3</th>\n",
       "      <td>chuva</td>\n",
       "      <td>70</td>\n",
       "      <td>NaN</td>\n",
       "      <td>FALSO</td>\n",
       "      <td>sim</td>\n",
       "    </tr>\n",
       "    <tr>\n",
       "      <th>4</th>\n",
       "      <td>chuva</td>\n",
       "      <td>68</td>\n",
       "      <td>80.0</td>\n",
       "      <td>FALSO</td>\n",
       "      <td>sim</td>\n",
       "    </tr>\n",
       "  </tbody>\n",
       "</table>\n",
       "</div>"
      ],
      "text/plain": [
       "  Aparencia  Temperatura  Umidade       Vento Jogar\n",
       "0       sol           85     85.0       FALSO   nao\n",
       "1       sol           80     90.0  VERDADEIRO   nao\n",
       "2   nublado           83     86.0       FALSO   sim\n",
       "3     chuva           70      NaN       FALSO   sim\n",
       "4     chuva           68     80.0       FALSO   sim"
      ]
     },
     "execution_count": 7,
     "metadata": {},
     "output_type": "execute_result"
    }
   ],
   "source": [
    "dataset = pd.read_csv('tempo.csv', sep=';')\n",
    "dataset.head()"
   ]
  },
  {
   "cell_type": "code",
   "execution_count": 8,
   "id": "1b78754e",
   "metadata": {
    "ExecuteTime": {
     "end_time": "2022-08-25T01:05:59.367796Z",
     "start_time": "2022-08-25T01:05:59.353832Z"
    }
   },
   "outputs": [
    {
     "data": {
      "text/plain": [
       "(14, 5)"
      ]
     },
     "execution_count": 8,
     "metadata": {},
     "output_type": "execute_result"
    }
   ],
   "source": [
    "dataset.shape"
   ]
  },
  {
   "cell_type": "markdown",
   "id": "1a5a9443",
   "metadata": {},
   "source": [
    "## Observações e passo a passo"
   ]
  },
  {
   "cell_type": "markdown",
   "id": "9a10d613",
   "metadata": {},
   "source": [
    "- Do banco de dado acima temos que:\n",
    " - O banco de dados tem 14 linhas (vemos apenas 5 linhas) e 5 colunas\n",
    " - Dados categóricos: Aparência | Vento | Jogar\n",
    " - Dados numéricos: Temperatura | Umidade\n",
    "<br>\n",
    "- Vamos analisar na seguinte ordem: <br>\n",
    " **1º Categóricos**: Aparencia > Vento > Jogar <br>\n",
    " **2º Numéricos**: Temperatura > Umidade <br>\n",
    " - Depois da análise, segue tratamento em mesma ordem\n",
    " "
   ]
  },
  {
   "cell_type": "markdown",
   "id": "0f4c5589",
   "metadata": {},
   "source": [
    "### Análises "
   ]
  },
  {
   "cell_type": "markdown",
   "id": "9988ccf9",
   "metadata": {},
   "source": [
    "#### Aparência"
   ]
  },
  {
   "cell_type": "code",
   "execution_count": 9,
   "id": "18a382f7",
   "metadata": {
    "ExecuteTime": {
     "end_time": "2022-08-25T01:05:59.383753Z",
     "start_time": "2022-08-25T01:05:59.369793Z"
    }
   },
   "outputs": [
    {
     "data": {
      "text/plain": [
       "Aparencia\n",
       "chuva      5\n",
       "menos      1\n",
       "nublado    3\n",
       "sol        5\n",
       "dtype: int64"
      ]
     },
     "execution_count": 9,
     "metadata": {},
     "output_type": "execute_result"
    }
   ],
   "source": [
    "agrupado = dataset.groupby(['Aparencia']).size() #filtro resummo\n",
    "agrupado"
   ]
  },
  {
   "cell_type": "markdown",
   "id": "00a2b3ba",
   "metadata": {},
   "source": [
    "- Nesse resumo consta um elemento chamado 'menos'. Fora do domínio. Verificando em gráfico:"
   ]
  },
  {
   "cell_type": "code",
   "execution_count": 10,
   "id": "eedd010b",
   "metadata": {
    "ExecuteTime": {
     "end_time": "2022-08-25T01:05:59.511469Z",
     "start_time": "2022-08-25T01:05:59.384750Z"
    },
    "scrolled": true
   },
   "outputs": [
    {
     "data": {
      "text/plain": [
       "<AxesSubplot:xlabel='Aparencia'>"
      ]
     },
     "execution_count": 10,
     "metadata": {},
     "output_type": "execute_result"
    },
    {
     "data": {
      "image/png": "[encoded data removed]",
      "text/plain": [
       "<Figure size 432x288 with 1 Axes>"
      ]
     },
     "metadata": {
      "needs_background": "light"
     },
     "output_type": "display_data"
    }
   ],
   "source": [
    "agrupado.plot.bar(color = 'gray') #gera gráfico em barra"
   ]
  },
  {
   "cell_type": "markdown",
   "id": "9e670f64",
   "metadata": {},
   "source": [
    "#### Vento"
   ]
  },
  {
   "cell_type": "code",
   "execution_count": 11,
   "id": "122a9759",
   "metadata": {
    "ExecuteTime": {
     "end_time": "2022-08-25T01:05:59.527471Z",
     "start_time": "2022-08-25T01:05:59.513459Z"
    }
   },
   "outputs": [
    {
     "data": {
      "text/plain": [
       "Vento\n",
       "FALSO         7\n",
       "VERDADEIRO    6\n",
       "dtype: int64"
      ]
     },
     "execution_count": 11,
     "metadata": {},
     "output_type": "execute_result"
    }
   ],
   "source": [
    "agrupado = dataset.groupby(['Vento']).size()\n",
    "agrupado"
   ]
  },
  {
   "cell_type": "code",
   "execution_count": 12,
   "id": "a4ad883e",
   "metadata": {
    "ExecuteTime": {
     "end_time": "2022-08-25T01:05:59.667263Z",
     "start_time": "2022-08-25T01:05:59.529462Z"
    }
   },
   "outputs": [
    {
     "data": {
      "text/plain": [
       "<AxesSubplot:xlabel='Vento'>"
      ]
     },
     "execution_count": 12,
     "metadata": {},
     "output_type": "execute_result"
    },
    {
     "data": {
      "image/png": "[encoded data removed]",
      "text/plain": [
       "<Figure size 432x288 with 1 Axes>"
      ]
     },
     "metadata": {
      "needs_background": "light"
     },
     "output_type": "display_data"
    }
   ],
   "source": [
    "agrupado.plot.bar(color = 'black')"
   ]
  },
  {
   "cell_type": "markdown",
   "id": "4ec8802c",
   "metadata": {},
   "source": [
    "#### Jogar"
   ]
  },
  {
   "cell_type": "code",
   "execution_count": 13,
   "id": "4bb4fef5",
   "metadata": {
    "ExecuteTime": {
     "end_time": "2022-08-25T01:05:59.683222Z",
     "start_time": "2022-08-25T01:05:59.668261Z"
    }
   },
   "outputs": [
    {
     "data": {
      "text/plain": [
       "Jogar\n",
       "nao    5\n",
       "sim    9\n",
       "dtype: int64"
      ]
     },
     "execution_count": 13,
     "metadata": {},
     "output_type": "execute_result"
    }
   ],
   "source": [
    "agrupado = dataset.groupby(['Jogar']).size()\n",
    "agrupado"
   ]
  },
  {
   "cell_type": "code",
   "execution_count": 14,
   "id": "04d31216",
   "metadata": {
    "ExecuteTime": {
     "end_time": "2022-08-25T01:05:59.779090Z",
     "start_time": "2022-08-25T01:05:59.684220Z"
    }
   },
   "outputs": [
    {
     "data": {
      "text/plain": [
       "<AxesSubplot:xlabel='Jogar'>"
      ]
     },
     "execution_count": 14,
     "metadata": {},
     "output_type": "execute_result"
    },
    {
     "data": {
      "image/png": "[encoded data removed]",
      "text/plain": [
       "<Figure size 432x288 with 1 Axes>"
      ]
     },
     "metadata": {
      "needs_background": "light"
     },
     "output_type": "display_data"
    }
   ],
   "source": [
    "agrupado.plot.bar(color = 'pink')"
   ]
  },
  {
   "cell_type": "markdown",
   "id": "238429b7",
   "metadata": {},
   "source": [
    "#### Temperatura"
   ]
  },
  {
   "cell_type": "code",
   "execution_count": 15,
   "id": "f698c03c",
   "metadata": {
    "ExecuteTime": {
     "end_time": "2022-08-25T01:05:59.795016Z",
     "start_time": "2022-08-25T01:05:59.780052Z"
    }
   },
   "outputs": [
    {
     "data": {
      "text/plain": [
       "count      14.000000\n",
       "mean      155.571429\n",
       "std       306.433759\n",
       "min        64.000000\n",
       "25%        69.250000\n",
       "50%        73.500000\n",
       "75%        80.750000\n",
       "max      1220.000000\n",
       "Name: Temperatura, dtype: float64"
      ]
     },
     "execution_count": 15,
     "metadata": {},
     "output_type": "execute_result"
    }
   ],
   "source": [
    "dataset['Temperatura'].describe()"
   ]
  },
  {
   "cell_type": "markdown",
   "id": "7788aa2d",
   "metadata": {},
   "source": [
    "- Observando a **mean** e o **50%**, é possível verificar uma distância entre esses valores."
   ]
  },
  {
   "cell_type": "code",
   "execution_count": 16,
   "id": "511e485f",
   "metadata": {
    "ExecuteTime": {
     "end_time": "2022-08-25T01:06:00.113209Z",
     "start_time": "2022-08-25T01:05:59.797009Z"
    }
   },
   "outputs": [
    {
     "data": {
      "text/plain": [
       "<seaborn.axisgrid.FacetGrid at 0x1dea09c37c0>"
      ]
     },
     "execution_count": 16,
     "metadata": {},
     "output_type": "execute_result"
    },
    {
     "data": {
      "image/png": "[encoded data removed]",
      "text/plain": [
       "<Figure size 360x360 with 1 Axes>"
      ]
     },
     "metadata": {
      "needs_background": "light"
     },
     "output_type": "display_data"
    }
   ],
   "source": [
    "srn.displot(dataset['Temperatura'])"
   ]
  },
  {
   "cell_type": "code",
   "execution_count": 17,
   "id": "38213f36",
   "metadata": {
    "ExecuteTime": {
     "end_time": "2022-08-25T01:06:00.208447Z",
     "start_time": "2022-08-25T01:06:00.114207Z"
    },
    "scrolled": true
   },
   "outputs": [
    {
     "name": "stderr",
     "output_type": "stream",
     "text": [
      "C:\\Users\\Christyna Dias\\anaconda3\\lib\\site-packages\\seaborn\\_decorators.py:36: FutureWarning: Pass the following variable as a keyword arg: x. From version 0.12, the only valid positional argument will be `data`, and passing other arguments without an explicit keyword will result in an error or misinterpretation.\n",
      "  warnings.warn(\n"
     ]
    },
    {
     "data": {
      "text/plain": [
       "<AxesSubplot:xlabel='Temperatura'>"
      ]
     },
     "execution_count": 17,
     "metadata": {},
     "output_type": "execute_result"
    },
    {
     "data": {
      "image/png": "[encoded data removed]",
      "text/plain": [
       "<Figure size 432x288 with 1 Axes>"
      ]
     },
     "metadata": {
      "needs_background": "light"
     },
     "output_type": "display_data"
    }
   ],
   "source": [
    "srn.boxplot(dataset['Temperatura'])"
   ]
  },
  {
   "cell_type": "markdown",
   "id": "308eddd3",
   "metadata": {},
   "source": [
    "#### Umidade"
   ]
  },
  {
   "cell_type": "code",
   "execution_count": 18,
   "id": "55c7cb06",
   "metadata": {
    "ExecuteTime": {
     "end_time": "2022-08-25T01:06:00.224407Z",
     "start_time": "2022-08-25T01:06:00.209447Z"
    }
   },
   "outputs": [
    {
     "data": {
      "text/plain": [
       "count     13.000000\n",
       "mean      89.769231\n",
       "std       34.540203\n",
       "min       65.000000\n",
       "25%       70.000000\n",
       "50%       85.000000\n",
       "75%       90.000000\n",
       "max      200.000000\n",
       "Name: Umidade, dtype: float64"
      ]
     },
     "execution_count": 18,
     "metadata": {},
     "output_type": "execute_result"
    }
   ],
   "source": [
    "dataset['Umidade'].describe()"
   ]
  },
  {
   "cell_type": "markdown",
   "id": "e27ad357",
   "metadata": {},
   "source": [
    "- **mean** e **50%** não estão tão distantes"
   ]
  },
  {
   "cell_type": "code",
   "execution_count": 19,
   "id": "ec5a091a",
   "metadata": {
    "ExecuteTime": {
     "end_time": "2022-08-25T01:06:00.381986Z",
     "start_time": "2022-08-25T01:06:00.225406Z"
    }
   },
   "outputs": [
    {
     "data": {
      "text/plain": [
       "<seaborn.axisgrid.FacetGrid at 0x1dea0bd3af0>"
      ]
     },
     "execution_count": 19,
     "metadata": {},
     "output_type": "execute_result"
    },
    {
     "data": {
      "image/png": "[encoded data removed]",
      "text/plain": [
       "<Figure size 360x360 with 1 Axes>"
      ]
     },
     "metadata": {
      "needs_background": "light"
     },
     "output_type": "display_data"
    }
   ],
   "source": [
    "srn.displot(dataset['Umidade'])"
   ]
  },
  {
   "cell_type": "code",
   "execution_count": 20,
   "id": "e06753b2",
   "metadata": {
    "ExecuteTime": {
     "end_time": "2022-08-25T01:06:00.475763Z",
     "start_time": "2022-08-25T01:06:00.382982Z"
    },
    "scrolled": true
   },
   "outputs": [
    {
     "name": "stderr",
     "output_type": "stream",
     "text": [
      "C:\\Users\\Christyna Dias\\anaconda3\\lib\\site-packages\\seaborn\\_decorators.py:36: FutureWarning: Pass the following variable as a keyword arg: x. From version 0.12, the only valid positional argument will be `data`, and passing other arguments without an explicit keyword will result in an error or misinterpretation.\n",
      "  warnings.warn(\n"
     ]
    },
    {
     "data": {
      "text/plain": [
       "Text(0.5, 1.0, 'Umidade')"
      ]
     },
     "execution_count": 20,
     "metadata": {},
     "output_type": "execute_result"
    },
    {
     "data": {
      "image/png": "[encoded data removed]",
      "text/plain": [
       "<Figure size 432x288 with 1 Axes>"
      ]
     },
     "metadata": {
      "needs_background": "light"
     },
     "output_type": "display_data"
    }
   ],
   "source": [
    "srn.boxplot(dataset['Umidade']).set_title('Umidade')\n",
    "#set_title('Umidade') põe o título 'Umidade' acima do gráfico"
   ]
  },
  {
   "cell_type": "markdown",
   "id": "c6d1bbbd",
   "metadata": {},
   "source": [
    "- No gráfico **boxplot** é possível ver um dado outlines."
   ]
  },
  {
   "cell_type": "markdown",
   "id": "342b710d",
   "metadata": {},
   "source": [
    "#### Valores Nulos NAN"
   ]
  },
  {
   "cell_type": "code",
   "execution_count": 21,
   "id": "da8cec92",
   "metadata": {
    "ExecuteTime": {
     "end_time": "2022-08-25T01:06:00.490705Z",
     "start_time": "2022-08-25T01:06:00.476733Z"
    }
   },
   "outputs": [
    {
     "data": {
      "text/plain": [
       "Aparencia      0\n",
       "Temperatura    0\n",
       "Umidade        1\n",
       "Vento          1\n",
       "Jogar          0\n",
       "dtype: int64"
      ]
     },
     "execution_count": 21,
     "metadata": {},
     "output_type": "execute_result"
    }
   ],
   "source": [
    "#Soma quantidade de valores núlo de cada coluna\n",
    "dataset.isnull().sum() "
   ]
  },
  {
   "cell_type": "markdown",
   "id": "5eebc04a",
   "metadata": {},
   "source": [
    "- Dado que há valores nulos, na coluna Umidade e Vento. "
   ]
  },
  {
   "cell_type": "markdown",
   "id": "a767eeea",
   "metadata": {},
   "source": [
    "### Tratamento"
   ]
  },
  {
   "cell_type": "markdown",
   "id": "17aabb4e",
   "metadata": {},
   "source": [
    "#### Aparência"
   ]
  },
  {
   "cell_type": "markdown",
   "id": "0e61d422",
   "metadata": {},
   "source": [
    " - Como visto no tópico 2.1.1.1, dentro dos valores 'Aparência' aparece um valor 'fora de domínio'. Que é o **menos**. \n",
    " - A ideia é substotuí-lo pela moda."
   ]
  },
  {
   "cell_type": "code",
   "execution_count": 22,
   "id": "1def1b53",
   "metadata": {
    "ExecuteTime": {
     "end_time": "2022-08-25T01:06:00.506653Z",
     "start_time": "2022-08-25T01:06:00.492690Z"
    }
   },
   "outputs": [
    {
     "data": {
      "text/plain": [
       "Aparencia\n",
       "chuva      5\n",
       "menos      1\n",
       "nublado    3\n",
       "sol        5\n",
       "dtype: int64"
      ]
     },
     "execution_count": 22,
     "metadata": {},
     "output_type": "execute_result"
    }
   ],
   "source": [
    "agrupado = dataset.groupby('Aparencia').size()\n",
    "agrupado"
   ]
  },
  {
   "cell_type": "markdown",
   "id": "548dbac9",
   "metadata": {},
   "source": [
    "- A moda é Chuva ou Sol. Vamos colocar Sol por imaginar que **para o negócio** é interessante que se faça sol para que se possa jogar. Sendo positivos e contando com a positividade do clima. \n",
    "- **Para um caso real**, talvez fosse necessário analizar o **histórico** do clima da região nos últimos anos pars o período especificado, e poder escolher entre um ou o outro."
   ]
  },
  {
   "cell_type": "code",
   "execution_count": 23,
   "id": "c8f055da",
   "metadata": {
    "ExecuteTime": {
     "end_time": "2022-08-25T01:06:00.521614Z",
     "start_time": "2022-08-25T01:06:00.507651Z"
    }
   },
   "outputs": [
    {
     "data": {
      "text/plain": [
       "Aparencia\n",
       "chuva      5\n",
       "nublado    3\n",
       "sol        6\n",
       "dtype: int64"
      ]
     },
     "execution_count": 23,
     "metadata": {},
     "output_type": "execute_result"
    }
   ],
   "source": [
    "dataset.loc[dataset['Aparencia'] == 'menos', 'Aparencia'] = 'sol'\n",
    "agrupado = dataset.groupby('Aparencia').size()\n",
    "agrupado"
   ]
  },
  {
   "cell_type": "markdown",
   "id": "a0e579c1",
   "metadata": {},
   "source": [
    "#### Temperatura"
   ]
  },
  {
   "cell_type": "markdown",
   "id": "d8ee6ad3",
   "metadata": {},
   "source": [
    "- Como visto no ponto 2.1.1.4, o valor máximo da temperatura excete os +130F. Precisamos **ajustar o domínio** da temperatura, **levando os valores que estão fora do domínio para o valor que representa a mediana.**"
   ]
  },
  {
   "cell_type": "code",
   "execution_count": 24,
   "id": "3f466c9c",
   "metadata": {
    "ExecuteTime": {
     "end_time": "2022-08-25T01:06:00.537570Z",
     "start_time": "2022-08-25T01:06:00.523609Z"
    }
   },
   "outputs": [
    {
     "data": {
      "text/html": [
       "<div>\n",
       "<style scoped>\n",
       "    .dataframe tbody tr th:only-of-type {\n",
       "        vertical-align: middle;\n",
       "    }\n",
       "\n",
       "    .dataframe tbody tr th {\n",
       "        vertical-align: top;\n",
       "    }\n",
       "\n",
       "    .dataframe thead th {\n",
       "        text-align: right;\n",
       "    }\n",
       "</style>\n",
       "<table border=\"1\" class=\"dataframe\">\n",
       "  <thead>\n",
       "    <tr style=\"text-align: right;\">\n",
       "      <th></th>\n",
       "      <th>Aparencia</th>\n",
       "      <th>Temperatura</th>\n",
       "      <th>Umidade</th>\n",
       "      <th>Vento</th>\n",
       "      <th>Jogar</th>\n",
       "    </tr>\n",
       "  </thead>\n",
       "  <tbody>\n",
       "    <tr>\n",
       "      <th>0</th>\n",
       "      <td>sol</td>\n",
       "      <td>85</td>\n",
       "      <td>85.0</td>\n",
       "      <td>FALSO</td>\n",
       "      <td>nao</td>\n",
       "    </tr>\n",
       "    <tr>\n",
       "      <th>1</th>\n",
       "      <td>sol</td>\n",
       "      <td>80</td>\n",
       "      <td>90.0</td>\n",
       "      <td>VERDADEIRO</td>\n",
       "      <td>nao</td>\n",
       "    </tr>\n",
       "    <tr>\n",
       "      <th>2</th>\n",
       "      <td>nublado</td>\n",
       "      <td>83</td>\n",
       "      <td>86.0</td>\n",
       "      <td>FALSO</td>\n",
       "      <td>sim</td>\n",
       "    </tr>\n",
       "    <tr>\n",
       "      <th>3</th>\n",
       "      <td>chuva</td>\n",
       "      <td>70</td>\n",
       "      <td>NaN</td>\n",
       "      <td>FALSO</td>\n",
       "      <td>sim</td>\n",
       "    </tr>\n",
       "    <tr>\n",
       "      <th>4</th>\n",
       "      <td>chuva</td>\n",
       "      <td>68</td>\n",
       "      <td>80.0</td>\n",
       "      <td>FALSO</td>\n",
       "      <td>sim</td>\n",
       "    </tr>\n",
       "    <tr>\n",
       "      <th>5</th>\n",
       "      <td>chuva</td>\n",
       "      <td>65</td>\n",
       "      <td>70.0</td>\n",
       "      <td>VERDADEIRO</td>\n",
       "      <td>nao</td>\n",
       "    </tr>\n",
       "    <tr>\n",
       "      <th>6</th>\n",
       "      <td>sol</td>\n",
       "      <td>64</td>\n",
       "      <td>65.0</td>\n",
       "      <td>VERDADEIRO</td>\n",
       "      <td>sim</td>\n",
       "    </tr>\n",
       "    <tr>\n",
       "      <th>7</th>\n",
       "      <td>sol</td>\n",
       "      <td>1220</td>\n",
       "      <td>95.0</td>\n",
       "      <td>FALSO</td>\n",
       "      <td>nao</td>\n",
       "    </tr>\n",
       "    <tr>\n",
       "      <th>8</th>\n",
       "      <td>sol</td>\n",
       "      <td>69</td>\n",
       "      <td>70.0</td>\n",
       "      <td>FALSO</td>\n",
       "      <td>sim</td>\n",
       "    </tr>\n",
       "    <tr>\n",
       "      <th>9</th>\n",
       "      <td>chuva</td>\n",
       "      <td>75</td>\n",
       "      <td>200.0</td>\n",
       "      <td>NaN</td>\n",
       "      <td>sim</td>\n",
       "    </tr>\n",
       "    <tr>\n",
       "      <th>10</th>\n",
       "      <td>sol</td>\n",
       "      <td>75</td>\n",
       "      <td>70.0</td>\n",
       "      <td>VERDADEIRO</td>\n",
       "      <td>sim</td>\n",
       "    </tr>\n",
       "    <tr>\n",
       "      <th>11</th>\n",
       "      <td>nublado</td>\n",
       "      <td>72</td>\n",
       "      <td>90.0</td>\n",
       "      <td>VERDADEIRO</td>\n",
       "      <td>sim</td>\n",
       "    </tr>\n",
       "    <tr>\n",
       "      <th>12</th>\n",
       "      <td>nublado</td>\n",
       "      <td>81</td>\n",
       "      <td>75.0</td>\n",
       "      <td>FALSO</td>\n",
       "      <td>sim</td>\n",
       "    </tr>\n",
       "    <tr>\n",
       "      <th>13</th>\n",
       "      <td>chuva</td>\n",
       "      <td>71</td>\n",
       "      <td>91.0</td>\n",
       "      <td>VERDADEIRO</td>\n",
       "      <td>nao</td>\n",
       "    </tr>\n",
       "  </tbody>\n",
       "</table>\n",
       "</div>"
      ],
      "text/plain": [
       "   Aparencia  Temperatura  Umidade       Vento Jogar\n",
       "0        sol           85     85.0       FALSO   nao\n",
       "1        sol           80     90.0  VERDADEIRO   nao\n",
       "2    nublado           83     86.0       FALSO   sim\n",
       "3      chuva           70      NaN       FALSO   sim\n",
       "4      chuva           68     80.0       FALSO   sim\n",
       "5      chuva           65     70.0  VERDADEIRO   nao\n",
       "6        sol           64     65.0  VERDADEIRO   sim\n",
       "7        sol         1220     95.0       FALSO   nao\n",
       "8        sol           69     70.0       FALSO   sim\n",
       "9      chuva           75    200.0         NaN   sim\n",
       "10       sol           75     70.0  VERDADEIRO   sim\n",
       "11   nublado           72     90.0  VERDADEIRO   sim\n",
       "12   nublado           81     75.0       FALSO   sim\n",
       "13     chuva           71     91.0  VERDADEIRO   nao"
      ]
     },
     "execution_count": 24,
     "metadata": {},
     "output_type": "execute_result"
    }
   ],
   "source": [
    "dataset.loc[(dataset['Temperatura'] > -130) | (dataset['Temperatura'] < 130)]"
   ]
  },
  {
   "cell_type": "code",
   "execution_count": 25,
   "id": "65475976",
   "metadata": {
    "ExecuteTime": {
     "end_time": "2022-08-25T01:06:00.552529Z",
     "start_time": "2022-08-25T01:06:00.539565Z"
    }
   },
   "outputs": [
    {
     "data": {
      "text/plain": [
       "73.5"
      ]
     },
     "execution_count": 25,
     "metadata": {},
     "output_type": "execute_result"
    }
   ],
   "source": [
    "mediana = sts.median(dataset['Temperatura']) #código para calcular mediana pelo pacote statistics. para coluna de 'Temp'\n",
    "mediana"
   ]
  },
  {
   "cell_type": "code",
   "execution_count": 26,
   "id": "e54989cc",
   "metadata": {
    "ExecuteTime": {
     "end_time": "2022-08-25T01:06:00.568487Z",
     "start_time": "2022-08-25T01:06:00.553528Z"
    }
   },
   "outputs": [
    {
     "data": {
      "text/html": [
       "<div>\n",
       "<style scoped>\n",
       "    .dataframe tbody tr th:only-of-type {\n",
       "        vertical-align: middle;\n",
       "    }\n",
       "\n",
       "    .dataframe tbody tr th {\n",
       "        vertical-align: top;\n",
       "    }\n",
       "\n",
       "    .dataframe thead th {\n",
       "        text-align: right;\n",
       "    }\n",
       "</style>\n",
       "<table border=\"1\" class=\"dataframe\">\n",
       "  <thead>\n",
       "    <tr style=\"text-align: right;\">\n",
       "      <th></th>\n",
       "      <th>Aparencia</th>\n",
       "      <th>Temperatura</th>\n",
       "      <th>Umidade</th>\n",
       "      <th>Vento</th>\n",
       "      <th>Jogar</th>\n",
       "    </tr>\n",
       "  </thead>\n",
       "  <tbody>\n",
       "  </tbody>\n",
       "</table>\n",
       "</div>"
      ],
      "text/plain": [
       "Empty DataFrame\n",
       "Columns: [Aparencia, Temperatura, Umidade, Vento, Jogar]\n",
       "Index: []"
      ]
     },
     "execution_count": 26,
     "metadata": {},
     "output_type": "execute_result"
    }
   ],
   "source": [
    "#Substituição dos dados abaixo de -130 e acima de 130 da coluna 'Temperatura' para mediana.\n",
    "dataset.loc[(dataset['Temperatura'] < -130) | (dataset['Temperatura'] > 130), 'Temperatura'] = mediana\n",
    "dataset.loc[(dataset['Temperatura'] <-130) | (dataset['Temperatura'] > 130)]"
   ]
  },
  {
   "cell_type": "markdown",
   "id": "ed1398d2",
   "metadata": {},
   "source": [
    "#### Umidade"
   ]
  },
  {
   "cell_type": "markdown",
   "id": "43d9559b",
   "metadata": {},
   "source": [
    "- Como visto no ponto 2.1.1.5, existem valores que excedem o limiar superior que é de 100. \n",
    "- Imitando o procedimento anterior temos que :"
   ]
  },
  {
   "cell_type": "code",
   "execution_count": 27,
   "id": "28a3eb96",
   "metadata": {
    "ExecuteTime": {
     "end_time": "2022-08-25T01:06:00.584443Z",
     "start_time": "2022-08-25T01:06:00.569486Z"
    }
   },
   "outputs": [
    {
     "data": {
      "text/html": [
       "<div>\n",
       "<style scoped>\n",
       "    .dataframe tbody tr th:only-of-type {\n",
       "        vertical-align: middle;\n",
       "    }\n",
       "\n",
       "    .dataframe tbody tr th {\n",
       "        vertical-align: top;\n",
       "    }\n",
       "\n",
       "    .dataframe thead th {\n",
       "        text-align: right;\n",
       "    }\n",
       "</style>\n",
       "<table border=\"1\" class=\"dataframe\">\n",
       "  <thead>\n",
       "    <tr style=\"text-align: right;\">\n",
       "      <th></th>\n",
       "      <th>Aparencia</th>\n",
       "      <th>Temperatura</th>\n",
       "      <th>Umidade</th>\n",
       "      <th>Vento</th>\n",
       "      <th>Jogar</th>\n",
       "    </tr>\n",
       "  </thead>\n",
       "  <tbody>\n",
       "    <tr>\n",
       "      <th>9</th>\n",
       "      <td>chuva</td>\n",
       "      <td>75.0</td>\n",
       "      <td>200.0</td>\n",
       "      <td>NaN</td>\n",
       "      <td>sim</td>\n",
       "    </tr>\n",
       "  </tbody>\n",
       "</table>\n",
       "</div>"
      ],
      "text/plain": [
       "  Aparencia  Temperatura  Umidade Vento Jogar\n",
       "9     chuva         75.0    200.0   NaN   sim"
      ]
     },
     "execution_count": 27,
     "metadata": {},
     "output_type": "execute_result"
    }
   ],
   "source": [
    "dataset.loc[(dataset['Umidade'] < 0) | (dataset['Umidade'] > 100)]"
   ]
  },
  {
   "cell_type": "code",
   "execution_count": 28,
   "id": "0f6ecb86",
   "metadata": {
    "ExecuteTime": {
     "end_time": "2022-08-25T01:06:00.616360Z",
     "start_time": "2022-08-25T01:06:00.585441Z"
    }
   },
   "outputs": [
    {
     "data": {
      "text/plain": [
       "85.5"
      ]
     },
     "execution_count": 28,
     "metadata": {},
     "output_type": "execute_result"
    }
   ],
   "source": [
    "mediana = sts.median(dataset['Umidade'])\n",
    "mediana"
   ]
  },
  {
   "cell_type": "code",
   "execution_count": 29,
   "id": "ade5f532",
   "metadata": {
    "ExecuteTime": {
     "end_time": "2022-08-25T01:06:00.646319Z",
     "start_time": "2022-08-25T01:06:00.620376Z"
    }
   },
   "outputs": [
    {
     "data": {
      "text/html": [
       "<div>\n",
       "<style scoped>\n",
       "    .dataframe tbody tr th:only-of-type {\n",
       "        vertical-align: middle;\n",
       "    }\n",
       "\n",
       "    .dataframe tbody tr th {\n",
       "        vertical-align: top;\n",
       "    }\n",
       "\n",
       "    .dataframe thead th {\n",
       "        text-align: right;\n",
       "    }\n",
       "</style>\n",
       "<table border=\"1\" class=\"dataframe\">\n",
       "  <thead>\n",
       "    <tr style=\"text-align: right;\">\n",
       "      <th></th>\n",
       "      <th>Aparencia</th>\n",
       "      <th>Temperatura</th>\n",
       "      <th>Umidade</th>\n",
       "      <th>Vento</th>\n",
       "      <th>Jogar</th>\n",
       "    </tr>\n",
       "  </thead>\n",
       "  <tbody>\n",
       "  </tbody>\n",
       "</table>\n",
       "</div>"
      ],
      "text/plain": [
       "Empty DataFrame\n",
       "Columns: [Aparencia, Temperatura, Umidade, Vento, Jogar]\n",
       "Index: []"
      ]
     },
     "execution_count": 29,
     "metadata": {},
     "output_type": "execute_result"
    }
   ],
   "source": [
    "dataset.loc[(dataset['Umidade'] < 0) | (dataset['Umidade'] > 100), 'Umidade'] = mediana\n",
    "dataset.loc[(dataset['Umidade'] < 0) | (dataset['Umidade'] > 100)]"
   ]
  },
  {
   "cell_type": "markdown",
   "id": "6b31b7fa",
   "metadata": {},
   "source": [
    "- Como visto no tópico 2.1.1.6, a coluna 'Umidade' possui valores nulos"
   ]
  },
  {
   "cell_type": "code",
   "execution_count": 30,
   "id": "53c60d0e",
   "metadata": {
    "ExecuteTime": {
     "end_time": "2022-08-25T01:06:00.662253Z",
     "start_time": "2022-08-25T01:06:00.649279Z"
    }
   },
   "outputs": [
    {
     "data": {
      "text/plain": [
       "Umidade\n",
       "65.0    1\n",
       "70.0    3\n",
       "75.0    1\n",
       "80.0    1\n",
       "85.0    1\n",
       "85.5    1\n",
       "86.0    1\n",
       "90.0    2\n",
       "91.0    1\n",
       "95.0    1\n",
       "dtype: int64"
      ]
     },
     "execution_count": 30,
     "metadata": {},
     "output_type": "execute_result"
    }
   ],
   "source": [
    "agrupado = dataset.groupby(['Umidade']).size()\n",
    "agrupado"
   ]
  },
  {
   "cell_type": "code",
   "execution_count": 31,
   "id": "836f352f",
   "metadata": {
    "ExecuteTime": {
     "end_time": "2022-08-25T01:06:00.678202Z",
     "start_time": "2022-08-25T01:06:00.664239Z"
    }
   },
   "outputs": [
    {
     "data": {
      "text/plain": [
       "1"
      ]
     },
     "execution_count": 31,
     "metadata": {},
     "output_type": "execute_result"
    }
   ],
   "source": [
    "dataset['Umidade'].isnull().sum() #retorna a soma da quantidade de elementos nulos"
   ]
  },
  {
   "cell_type": "code",
   "execution_count": 32,
   "id": "0079534f",
   "metadata": {
    "ExecuteTime": {
     "end_time": "2022-08-25T01:06:00.694159Z",
     "start_time": "2022-08-25T01:06:00.681197Z"
    }
   },
   "outputs": [
    {
     "data": {
      "text/plain": [
       "85.5"
      ]
     },
     "execution_count": 32,
     "metadata": {},
     "output_type": "execute_result"
    }
   ],
   "source": [
    "mediana = sts.median(dataset['Umidade'])\n",
    "mediana"
   ]
  },
  {
   "cell_type": "code",
   "execution_count": 33,
   "id": "380e3a21",
   "metadata": {
    "ExecuteTime": {
     "end_time": "2022-08-25T01:06:00.710116Z",
     "start_time": "2022-08-25T01:06:00.698148Z"
    }
   },
   "outputs": [
    {
     "data": {
      "text/plain": [
       "0"
      ]
     },
     "execution_count": 33,
     "metadata": {},
     "output_type": "execute_result"
    }
   ],
   "source": [
    "dataset['Umidade'].fillna(mediana, inplace=True) #subsitui o valor nulo pela mediana\n",
    "dataset['Umidade'].isnull().sum()"
   ]
  },
  {
   "cell_type": "markdown",
   "id": "54d4b2a1",
   "metadata": {},
   "source": [
    "#### Vento"
   ]
  },
  {
   "cell_type": "markdown",
   "id": "6bdee9ed",
   "metadata": {},
   "source": [
    "- Como visto no tópico 2.1.1.2, a coluna vento retorna se é 'Verdadeiro' ou 'Falso'. Então, trata-se de um dado categórico. \n",
    "- Não há valores fora de domínio (fora de 'Verdadeiro' ou 'Falso'). \n",
    "- **Precisamos verificar se há dados nulos**, e havendo, transformá-lo na moda (visto que é um dado categórico). "
   ]
  },
  {
   "cell_type": "code",
   "execution_count": 34,
   "id": "e7c3f34b",
   "metadata": {
    "ExecuteTime": {
     "end_time": "2022-08-25T01:06:00.729073Z",
     "start_time": "2022-08-25T01:06:00.712117Z"
    }
   },
   "outputs": [
    {
     "data": {
      "text/plain": [
       "1"
      ]
     },
     "execution_count": 34,
     "metadata": {},
     "output_type": "execute_result"
    }
   ],
   "source": [
    "dataset['Vento'].isnull().sum() "
   ]
  },
  {
   "cell_type": "code",
   "execution_count": 35,
   "id": "56083e5e",
   "metadata": {
    "ExecuteTime": {
     "end_time": "2022-08-25T01:06:00.742031Z",
     "start_time": "2022-08-25T01:06:00.734053Z"
    }
   },
   "outputs": [
    {
     "data": {
      "text/plain": [
       "0"
      ]
     },
     "execution_count": 35,
     "metadata": {},
     "output_type": "execute_result"
    }
   ],
   "source": [
    "dataset['Vento'].fillna('FALSO', inplace=True)\n",
    "dataset['Vento'].isnull().sum()"
   ]
  },
  {
   "cell_type": "markdown",
   "id": "0c03d241",
   "metadata": {},
   "source": [
    "# S13: Visualização de dados - análise exploratória"
   ]
  },
  {
   "cell_type": "markdown",
   "id": "cd7ac97d",
   "metadata": {},
   "source": [
    "- Também conhecida como **EDA** (Exploring Data Analyses), a técnica objetiva **analisar e investigar** conjuntos de dados e **resumir** suas principais características, muitas vezes **usando métodos de visualização de dados**.\n",
    "- Serve para **identificar o que os dados podem revelar** além da tarefa formal de modelagem ou teste de hipótese e proporciona uma melhor compreensão das variáveis do conjunto de dados e as **relações entre eles**."
   ]
  },
  {
   "cell_type": "code",
   "execution_count": 59,
   "id": "f62c1882",
   "metadata": {
    "ExecuteTime": {
     "end_time": "2022-08-25T01:27:04.835757Z",
     "start_time": "2022-08-25T01:27:04.820799Z"
    },
    "scrolled": true
   },
   "outputs": [
    {
     "data": {
      "text/html": [
       "<div>\n",
       "<style scoped>\n",
       "    .dataframe tbody tr th:only-of-type {\n",
       "        vertical-align: middle;\n",
       "    }\n",
       "\n",
       "    .dataframe tbody tr th {\n",
       "        vertical-align: top;\n",
       "    }\n",
       "\n",
       "    .dataframe thead th {\n",
       "        text-align: right;\n",
       "    }\n",
       "</style>\n",
       "<table border=\"1\" class=\"dataframe\">\n",
       "  <thead>\n",
       "    <tr style=\"text-align: right;\">\n",
       "      <th></th>\n",
       "      <th>CODIGO;MUNICIPIO;PIB;VALOREMPENHO</th>\n",
       "    </tr>\n",
       "  </thead>\n",
       "  <tbody>\n",
       "    <tr>\n",
       "      <th>0</th>\n",
       "      <td>106;SANTANA DO LIVRAMENTO;12240.76;1088666.1</td>\n",
       "    </tr>\n",
       "    <tr>\n",
       "      <th>1</th>\n",
       "      <td>113;SANTO ANGELO;16575.82;800669.92</td>\n",
       "    </tr>\n",
       "    <tr>\n",
       "      <th>2</th>\n",
       "      <td>118;SAO FRANCISCO DE ASSIS;12037.61;466122.8</td>\n",
       "    </tr>\n",
       "    <tr>\n",
       "      <th>3</th>\n",
       "      <td>13;CACAPAVA DO SUL;13674.54;485535.86</td>\n",
       "    </tr>\n",
       "    <tr>\n",
       "      <th>4</th>\n",
       "      <td>120;SAO GABRIEL;19912.38;533719.86</td>\n",
       "    </tr>\n",
       "    <tr>\n",
       "      <th>...</th>\n",
       "      <td>...</td>\n",
       "    </tr>\n",
       "    <tr>\n",
       "      <th>182</th>\n",
       "      <td>372;SANTA VITORIA DO PALMAR;27170.89;760</td>\n",
       "    </tr>\n",
       "    <tr>\n",
       "      <th>183</th>\n",
       "      <td>107;SANTA BARBARA DO SUL;29654.02;365</td>\n",
       "    </tr>\n",
       "    <tr>\n",
       "      <th>184</th>\n",
       "      <td>54;GETULIO VARGAS;16876.33;233.01</td>\n",
       "    </tr>\n",
       "    <tr>\n",
       "      <th>185</th>\n",
       "      <td>382;NOVA SANTA RITA;25938.38;310.58</td>\n",
       "    </tr>\n",
       "    <tr>\n",
       "      <th>186</th>\n",
       "      <td>60;GUARANI DAS MISSOES;24363.31;172.13</td>\n",
       "    </tr>\n",
       "  </tbody>\n",
       "</table>\n",
       "<p>187 rows × 1 columns</p>\n",
       "</div>"
      ],
      "text/plain": [
       "                CODIGO;MUNICIPIO;PIB;VALOREMPENHO\n",
       "0    106;SANTANA DO LIVRAMENTO;12240.76;1088666.1\n",
       "1             113;SANTO ANGELO;16575.82;800669.92\n",
       "2    118;SAO FRANCISCO DE ASSIS;12037.61;466122.8\n",
       "3           13;CACAPAVA DO SUL;13674.54;485535.86\n",
       "4              120;SAO GABRIEL;19912.38;533719.86\n",
       "..                                            ...\n",
       "182      372;SANTA VITORIA DO PALMAR;27170.89;760\n",
       "183         107;SANTA BARBARA DO SUL;29654.02;365\n",
       "184             54;GETULIO VARGAS;16876.33;233.01\n",
       "185           382;NOVA SANTA RITA;25938.38;310.58\n",
       "186        60;GUARANI DAS MISSOES;24363.31;172.13\n",
       "\n",
       "[187 rows x 1 columns]"
      ]
     },
     "execution_count": 59,
     "metadata": {},
     "output_type": "execute_result"
    }
   ],
   "source": [
    "bd = pd.read_csv('dados.csv')\n",
    "bd"
   ]
  },
  {
   "cell_type": "markdown",
   "id": "cc856352",
   "metadata": {},
   "source": [
    "Os dados vieram todos unificados em uma coluna. Vamos tratá-lo."
   ]
  },
  {
   "cell_type": "markdown",
   "id": "a03fa724",
   "metadata": {},
   "source": [
    "## Separação em colunas"
   ]
  },
  {
   "cell_type": "code",
   "execution_count": 60,
   "id": "99b15a87",
   "metadata": {
    "ExecuteTime": {
     "end_time": "2022-08-25T01:28:13.836871Z",
     "start_time": "2022-08-25T01:28:13.828857Z"
    }
   },
   "outputs": [
    {
     "data": {
      "text/plain": [
       "0      106;SANTANA DO LIVRAMENTO;12240.76;1088666.1\n",
       "1               113;SANTO ANGELO;16575.82;800669.92\n",
       "2      118;SAO FRANCISCO DE ASSIS;12037.61;466122.8\n",
       "3             13;CACAPAVA DO SUL;13674.54;485535.86\n",
       "4                120;SAO GABRIEL;19912.38;533719.86\n",
       "                           ...                     \n",
       "182        372;SANTA VITORIA DO PALMAR;27170.89;760\n",
       "183           107;SANTA BARBARA DO SUL;29654.02;365\n",
       "184               54;GETULIO VARGAS;16876.33;233.01\n",
       "185             382;NOVA SANTA RITA;25938.38;310.58\n",
       "186          60;GUARANI DAS MISSOES;24363.31;172.13\n",
       "Name: CODIGO;MUNICIPIO;PIB;VALOREMPENHO, Length: 187, dtype: object"
      ]
     },
     "execution_count": 60,
     "metadata": {},
     "output_type": "execute_result"
    }
   ],
   "source": [
    "bd['CODIGO;MUNICIPIO;PIB;VALOREMPENHO']"
   ]
  },
  {
   "cell_type": "code",
   "execution_count": 61,
   "id": "e5abd939",
   "metadata": {
    "ExecuteTime": {
     "end_time": "2022-08-25T01:28:45.191708Z",
     "start_time": "2022-08-25T01:28:45.172758Z"
    }
   },
   "outputs": [
    {
     "data": {
      "text/plain": [
       "0      [106, SANTANA DO LIVRAMENTO, 12240.76, 1088666.1]\n",
       "1               [113, SANTO ANGELO, 16575.82, 800669.92]\n",
       "2      [118, SAO FRANCISCO DE ASSIS, 12037.61, 466122.8]\n",
       "3             [13, CACAPAVA DO SUL, 13674.54, 485535.86]\n",
       "4                [120, SAO GABRIEL, 19912.38, 533719.86]\n",
       "                             ...                        \n",
       "182        [372, SANTA VITORIA DO PALMAR, 27170.89, 760]\n",
       "183           [107, SANTA BARBARA DO SUL, 29654.02, 365]\n",
       "184               [54, GETULIO VARGAS, 16876.33, 233.01]\n",
       "185             [382, NOVA SANTA RITA, 25938.38, 310.58]\n",
       "186          [60, GUARANI DAS MISSOES, 24363.31, 172.13]\n",
       "Name: CODIGO;MUNICIPIO;PIB;VALOREMPENHO, Length: 187, dtype: object"
      ]
     },
     "execution_count": 61,
     "metadata": {},
     "output_type": "execute_result"
    }
   ],
   "source": [
    "bd['CODIGO;MUNICIPIO;PIB;VALOREMPENHO'].str.split(';')"
   ]
  },
  {
   "cell_type": "code",
   "execution_count": 64,
   "id": "06be3b49",
   "metadata": {
    "ExecuteTime": {
     "end_time": "2022-08-25T01:30:34.711055Z",
     "start_time": "2022-08-25T01:30:34.693103Z"
    }
   },
   "outputs": [
    {
     "data": {
      "text/html": [
       "<div>\n",
       "<style scoped>\n",
       "    .dataframe tbody tr th:only-of-type {\n",
       "        vertical-align: middle;\n",
       "    }\n",
       "\n",
       "    .dataframe tbody tr th {\n",
       "        vertical-align: top;\n",
       "    }\n",
       "\n",
       "    .dataframe thead th {\n",
       "        text-align: right;\n",
       "    }\n",
       "</style>\n",
       "<table border=\"1\" class=\"dataframe\">\n",
       "  <thead>\n",
       "    <tr style=\"text-align: right;\">\n",
       "      <th></th>\n",
       "      <th>0</th>\n",
       "      <th>1</th>\n",
       "      <th>2</th>\n",
       "      <th>3</th>\n",
       "    </tr>\n",
       "  </thead>\n",
       "  <tbody>\n",
       "    <tr>\n",
       "      <th>0</th>\n",
       "      <td>106</td>\n",
       "      <td>SANTANA DO LIVRAMENTO</td>\n",
       "      <td>12240.76</td>\n",
       "      <td>1088666.1</td>\n",
       "    </tr>\n",
       "    <tr>\n",
       "      <th>1</th>\n",
       "      <td>113</td>\n",
       "      <td>SANTO ANGELO</td>\n",
       "      <td>16575.82</td>\n",
       "      <td>800669.92</td>\n",
       "    </tr>\n",
       "    <tr>\n",
       "      <th>2</th>\n",
       "      <td>118</td>\n",
       "      <td>SAO FRANCISCO DE ASSIS</td>\n",
       "      <td>12037.61</td>\n",
       "      <td>466122.8</td>\n",
       "    </tr>\n",
       "    <tr>\n",
       "      <th>3</th>\n",
       "      <td>13</td>\n",
       "      <td>CACAPAVA DO SUL</td>\n",
       "      <td>13674.54</td>\n",
       "      <td>485535.86</td>\n",
       "    </tr>\n",
       "    <tr>\n",
       "      <th>4</th>\n",
       "      <td>120</td>\n",
       "      <td>SAO GABRIEL</td>\n",
       "      <td>19912.38</td>\n",
       "      <td>533719.86</td>\n",
       "    </tr>\n",
       "    <tr>\n",
       "      <th>...</th>\n",
       "      <td>...</td>\n",
       "      <td>...</td>\n",
       "      <td>...</td>\n",
       "      <td>...</td>\n",
       "    </tr>\n",
       "    <tr>\n",
       "      <th>182</th>\n",
       "      <td>372</td>\n",
       "      <td>SANTA VITORIA DO PALMAR</td>\n",
       "      <td>27170.89</td>\n",
       "      <td>760</td>\n",
       "    </tr>\n",
       "    <tr>\n",
       "      <th>183</th>\n",
       "      <td>107</td>\n",
       "      <td>SANTA BARBARA DO SUL</td>\n",
       "      <td>29654.02</td>\n",
       "      <td>365</td>\n",
       "    </tr>\n",
       "    <tr>\n",
       "      <th>184</th>\n",
       "      <td>54</td>\n",
       "      <td>GETULIO VARGAS</td>\n",
       "      <td>16876.33</td>\n",
       "      <td>233.01</td>\n",
       "    </tr>\n",
       "    <tr>\n",
       "      <th>185</th>\n",
       "      <td>382</td>\n",
       "      <td>NOVA SANTA RITA</td>\n",
       "      <td>25938.38</td>\n",
       "      <td>310.58</td>\n",
       "    </tr>\n",
       "    <tr>\n",
       "      <th>186</th>\n",
       "      <td>60</td>\n",
       "      <td>GUARANI DAS MISSOES</td>\n",
       "      <td>24363.31</td>\n",
       "      <td>172.13</td>\n",
       "    </tr>\n",
       "  </tbody>\n",
       "</table>\n",
       "<p>187 rows × 4 columns</p>\n",
       "</div>"
      ],
      "text/plain": [
       "       0                        1         2          3\n",
       "0    106    SANTANA DO LIVRAMENTO  12240.76  1088666.1\n",
       "1    113             SANTO ANGELO  16575.82  800669.92\n",
       "2    118   SAO FRANCISCO DE ASSIS  12037.61   466122.8\n",
       "3     13          CACAPAVA DO SUL  13674.54  485535.86\n",
       "4    120              SAO GABRIEL  19912.38  533719.86\n",
       "..   ...                      ...       ...        ...\n",
       "182  372  SANTA VITORIA DO PALMAR  27170.89        760\n",
       "183  107     SANTA BARBARA DO SUL  29654.02        365\n",
       "184   54           GETULIO VARGAS  16876.33     233.01\n",
       "185  382          NOVA SANTA RITA  25938.38     310.58\n",
       "186   60      GUARANI DAS MISSOES  24363.31     172.13\n",
       "\n",
       "[187 rows x 4 columns]"
      ]
     },
     "execution_count": 64,
     "metadata": {},
     "output_type": "execute_result"
    }
   ],
   "source": [
    "bd['CODIGO;MUNICIPIO;PIB;VALOREMPENHO'].str.split(';', expand=True)"
   ]
  },
  {
   "cell_type": "code",
   "execution_count": 65,
   "id": "c2382484",
   "metadata": {
    "ExecuteTime": {
     "end_time": "2022-08-25T01:30:54.354272Z",
     "start_time": "2022-08-25T01:30:54.333328Z"
    }
   },
   "outputs": [
    {
     "data": {
      "text/html": [
       "<div>\n",
       "<style scoped>\n",
       "    .dataframe tbody tr th:only-of-type {\n",
       "        vertical-align: middle;\n",
       "    }\n",
       "\n",
       "    .dataframe tbody tr th {\n",
       "        vertical-align: top;\n",
       "    }\n",
       "\n",
       "    .dataframe thead th {\n",
       "        text-align: right;\n",
       "    }\n",
       "</style>\n",
       "<table border=\"1\" class=\"dataframe\">\n",
       "  <thead>\n",
       "    <tr style=\"text-align: right;\">\n",
       "      <th></th>\n",
       "      <th>0</th>\n",
       "      <th>1</th>\n",
       "      <th>2</th>\n",
       "      <th>3</th>\n",
       "    </tr>\n",
       "  </thead>\n",
       "  <tbody>\n",
       "    <tr>\n",
       "      <th>0</th>\n",
       "      <td>106</td>\n",
       "      <td>SANTANA DO LIVRAMENTO</td>\n",
       "      <td>12240.76</td>\n",
       "      <td>1088666.1</td>\n",
       "    </tr>\n",
       "    <tr>\n",
       "      <th>1</th>\n",
       "      <td>113</td>\n",
       "      <td>SANTO ANGELO</td>\n",
       "      <td>16575.82</td>\n",
       "      <td>800669.92</td>\n",
       "    </tr>\n",
       "    <tr>\n",
       "      <th>2</th>\n",
       "      <td>118</td>\n",
       "      <td>SAO FRANCISCO DE ASSIS</td>\n",
       "      <td>12037.61</td>\n",
       "      <td>466122.8</td>\n",
       "    </tr>\n",
       "    <tr>\n",
       "      <th>3</th>\n",
       "      <td>13</td>\n",
       "      <td>CACAPAVA DO SUL</td>\n",
       "      <td>13674.54</td>\n",
       "      <td>485535.86</td>\n",
       "    </tr>\n",
       "    <tr>\n",
       "      <th>4</th>\n",
       "      <td>120</td>\n",
       "      <td>SAO GABRIEL</td>\n",
       "      <td>19912.38</td>\n",
       "      <td>533719.86</td>\n",
       "    </tr>\n",
       "    <tr>\n",
       "      <th>...</th>\n",
       "      <td>...</td>\n",
       "      <td>...</td>\n",
       "      <td>...</td>\n",
       "      <td>...</td>\n",
       "    </tr>\n",
       "    <tr>\n",
       "      <th>182</th>\n",
       "      <td>372</td>\n",
       "      <td>SANTA VITORIA DO PALMAR</td>\n",
       "      <td>27170.89</td>\n",
       "      <td>760</td>\n",
       "    </tr>\n",
       "    <tr>\n",
       "      <th>183</th>\n",
       "      <td>107</td>\n",
       "      <td>SANTA BARBARA DO SUL</td>\n",
       "      <td>29654.02</td>\n",
       "      <td>365</td>\n",
       "    </tr>\n",
       "    <tr>\n",
       "      <th>184</th>\n",
       "      <td>54</td>\n",
       "      <td>GETULIO VARGAS</td>\n",
       "      <td>16876.33</td>\n",
       "      <td>233.01</td>\n",
       "    </tr>\n",
       "    <tr>\n",
       "      <th>185</th>\n",
       "      <td>382</td>\n",
       "      <td>NOVA SANTA RITA</td>\n",
       "      <td>25938.38</td>\n",
       "      <td>310.58</td>\n",
       "    </tr>\n",
       "    <tr>\n",
       "      <th>186</th>\n",
       "      <td>60</td>\n",
       "      <td>GUARANI DAS MISSOES</td>\n",
       "      <td>24363.31</td>\n",
       "      <td>172.13</td>\n",
       "    </tr>\n",
       "  </tbody>\n",
       "</table>\n",
       "<p>187 rows × 4 columns</p>\n",
       "</div>"
      ],
      "text/plain": [
       "       0                        1         2          3\n",
       "0    106    SANTANA DO LIVRAMENTO  12240.76  1088666.1\n",
       "1    113             SANTO ANGELO  16575.82  800669.92\n",
       "2    118   SAO FRANCISCO DE ASSIS  12037.61   466122.8\n",
       "3     13          CACAPAVA DO SUL  13674.54  485535.86\n",
       "4    120              SAO GABRIEL  19912.38  533719.86\n",
       "..   ...                      ...       ...        ...\n",
       "182  372  SANTA VITORIA DO PALMAR  27170.89        760\n",
       "183  107     SANTA BARBARA DO SUL  29654.02        365\n",
       "184   54           GETULIO VARGAS  16876.33     233.01\n",
       "185  382          NOVA SANTA RITA  25938.38     310.58\n",
       "186   60      GUARANI DAS MISSOES  24363.31     172.13\n",
       "\n",
       "[187 rows x 4 columns]"
      ]
     },
     "execution_count": 65,
     "metadata": {},
     "output_type": "execute_result"
    }
   ],
   "source": [
    "bdm = bd['CODIGO;MUNICIPIO;PIB;VALOREMPENHO'].str.split(';', expand=True)\n",
    "bdm"
   ]
  },
  {
   "cell_type": "code",
   "execution_count": 72,
   "id": "cc2a5576",
   "metadata": {
    "ExecuteTime": {
     "end_time": "2022-08-25T01:38:40.818051Z",
     "start_time": "2022-08-25T01:38:40.797107Z"
    }
   },
   "outputs": [
    {
     "data": {
      "text/html": [
       "<div>\n",
       "<style scoped>\n",
       "    .dataframe tbody tr th:only-of-type {\n",
       "        vertical-align: middle;\n",
       "    }\n",
       "\n",
       "    .dataframe tbody tr th {\n",
       "        vertical-align: top;\n",
       "    }\n",
       "\n",
       "    .dataframe thead th {\n",
       "        text-align: right;\n",
       "    }\n",
       "</style>\n",
       "<table border=\"1\" class=\"dataframe\">\n",
       "  <thead>\n",
       "    <tr style=\"text-align: right;\">\n",
       "      <th></th>\n",
       "      <th>Codigo</th>\n",
       "      <th>Municipio</th>\n",
       "      <th>PIB</th>\n",
       "      <th>ValorEmpenho</th>\n",
       "    </tr>\n",
       "  </thead>\n",
       "  <tbody>\n",
       "    <tr>\n",
       "      <th>0</th>\n",
       "      <td>106</td>\n",
       "      <td>SANTANA DO LIVRAMENTO</td>\n",
       "      <td>12240.76</td>\n",
       "      <td>1088666.1</td>\n",
       "    </tr>\n",
       "    <tr>\n",
       "      <th>1</th>\n",
       "      <td>113</td>\n",
       "      <td>SANTO ANGELO</td>\n",
       "      <td>16575.82</td>\n",
       "      <td>800669.92</td>\n",
       "    </tr>\n",
       "    <tr>\n",
       "      <th>2</th>\n",
       "      <td>118</td>\n",
       "      <td>SAO FRANCISCO DE ASSIS</td>\n",
       "      <td>12037.61</td>\n",
       "      <td>466122.8</td>\n",
       "    </tr>\n",
       "    <tr>\n",
       "      <th>3</th>\n",
       "      <td>13</td>\n",
       "      <td>CACAPAVA DO SUL</td>\n",
       "      <td>13674.54</td>\n",
       "      <td>485535.86</td>\n",
       "    </tr>\n",
       "    <tr>\n",
       "      <th>4</th>\n",
       "      <td>120</td>\n",
       "      <td>SAO GABRIEL</td>\n",
       "      <td>19912.38</td>\n",
       "      <td>533719.86</td>\n",
       "    </tr>\n",
       "    <tr>\n",
       "      <th>...</th>\n",
       "      <td>...</td>\n",
       "      <td>...</td>\n",
       "      <td>...</td>\n",
       "      <td>...</td>\n",
       "    </tr>\n",
       "    <tr>\n",
       "      <th>182</th>\n",
       "      <td>372</td>\n",
       "      <td>SANTA VITORIA DO PALMAR</td>\n",
       "      <td>27170.89</td>\n",
       "      <td>760</td>\n",
       "    </tr>\n",
       "    <tr>\n",
       "      <th>183</th>\n",
       "      <td>107</td>\n",
       "      <td>SANTA BARBARA DO SUL</td>\n",
       "      <td>29654.02</td>\n",
       "      <td>365</td>\n",
       "    </tr>\n",
       "    <tr>\n",
       "      <th>184</th>\n",
       "      <td>54</td>\n",
       "      <td>GETULIO VARGAS</td>\n",
       "      <td>16876.33</td>\n",
       "      <td>233.01</td>\n",
       "    </tr>\n",
       "    <tr>\n",
       "      <th>185</th>\n",
       "      <td>382</td>\n",
       "      <td>NOVA SANTA RITA</td>\n",
       "      <td>25938.38</td>\n",
       "      <td>310.58</td>\n",
       "    </tr>\n",
       "    <tr>\n",
       "      <th>186</th>\n",
       "      <td>60</td>\n",
       "      <td>GUARANI DAS MISSOES</td>\n",
       "      <td>24363.31</td>\n",
       "      <td>172.13</td>\n",
       "    </tr>\n",
       "  </tbody>\n",
       "</table>\n",
       "<p>187 rows × 4 columns</p>\n",
       "</div>"
      ],
      "text/plain": [
       "    Codigo                Municipio       PIB ValorEmpenho\n",
       "0      106    SANTANA DO LIVRAMENTO  12240.76    1088666.1\n",
       "1      113             SANTO ANGELO  16575.82    800669.92\n",
       "2      118   SAO FRANCISCO DE ASSIS  12037.61     466122.8\n",
       "3       13          CACAPAVA DO SUL  13674.54    485535.86\n",
       "4      120              SAO GABRIEL  19912.38    533719.86\n",
       "..     ...                      ...       ...          ...\n",
       "182    372  SANTA VITORIA DO PALMAR  27170.89          760\n",
       "183    107     SANTA BARBARA DO SUL  29654.02          365\n",
       "184     54           GETULIO VARGAS  16876.33       233.01\n",
       "185    382          NOVA SANTA RITA  25938.38       310.58\n",
       "186     60      GUARANI DAS MISSOES  24363.31       172.13\n",
       "\n",
       "[187 rows x 4 columns]"
      ]
     },
     "execution_count": 72,
     "metadata": {},
     "output_type": "execute_result"
    }
   ],
   "source": [
    "bdm.columns = ['Codigo', 'Municipio', 'PIB', 'ValorEmpenho']\n",
    "bdm"
   ]
  },
  {
   "cell_type": "markdown",
   "id": "4fc768bc",
   "metadata": {},
   "source": [
    "## Relação Município PIB em Dispersão"
   ]
  },
  {
   "cell_type": "markdown",
   "id": "346a7d77",
   "metadata": {},
   "source": [
    "### Importações"
   ]
  },
  {
   "cell_type": "code",
   "execution_count": 67,
   "id": "d5cfb697",
   "metadata": {
    "ExecuteTime": {
     "end_time": "2022-08-25T01:36:26.783500Z",
     "start_time": "2022-08-25T01:36:26.765547Z"
    }
   },
   "outputs": [],
   "source": [
    "import numpy as np\n",
    "import matplotlib.pyplot as plt"
   ]
  },
  {
   "cell_type": "code",
   "execution_count": 101,
   "id": "f7e0d79f",
   "metadata": {
    "ExecuteTime": {
     "end_time": "2022-08-25T03:10:08.014924Z",
     "start_time": "2022-08-25T03:10:07.999941Z"
    }
   },
   "outputs": [
    {
     "data": {
      "text/plain": [
       "0      12240.76\n",
       "1      16575.82\n",
       "2      12037.61\n",
       "3      13674.54\n",
       "4      19912.38\n",
       "         ...   \n",
       "182    27170.89\n",
       "183    29654.02\n",
       "184    16876.33\n",
       "185    25938.38\n",
       "186    24363.31\n",
       "Name: PIB, Length: 187, dtype: object"
      ]
     },
     "execution_count": 101,
     "metadata": {},
     "output_type": "execute_result"
    }
   ],
   "source": [
    "bdm.PIB[:]"
   ]
  },
  {
   "cell_type": "code",
   "execution_count": 102,
   "id": "5fd0f26c",
   "metadata": {
    "ExecuteTime": {
     "end_time": "2022-08-25T03:10:49.085880Z",
     "start_time": "2022-08-25T03:10:46.824254Z"
    }
   },
   "outputs": [
    {
     "ename": "TypeError",
     "evalue": "unsupported operand type(s) for -: 'str' and 'str'",
     "output_type": "error",
     "traceback": [
      "\u001b[1;31m---------------------------------------------------------------------------\u001b[0m",
      "\u001b[1;31mTypeError\u001b[0m                                 Traceback (most recent call last)",
      "\u001b[1;32mC:\\Users\\CHRIST~1\\AppData\\Local\\Temp/ipykernel_11556/2698477282.py\u001b[0m in \u001b[0;36m<module>\u001b[1;34m\u001b[0m\n\u001b[0;32m      1\u001b[0m \u001b[0mplt\u001b[0m\u001b[1;33m.\u001b[0m\u001b[0mrcParams\u001b[0m\u001b[1;33m[\u001b[0m\u001b[1;34m'figure.figsize'\u001b[0m\u001b[1;33m]\u001b[0m \u001b[1;33m=\u001b[0m \u001b[1;33m(\u001b[0m\u001b[1;36m11\u001b[0m\u001b[1;33m,\u001b[0m \u001b[1;36m7\u001b[0m\u001b[1;33m)\u001b[0m\u001b[1;33m\u001b[0m\u001b[1;33m\u001b[0m\u001b[0m\n\u001b[0;32m      2\u001b[0m \u001b[0mplt\u001b[0m\u001b[1;33m.\u001b[0m\u001b[0mscatter\u001b[0m\u001b[1;33m(\u001b[0m\u001b[0mbdm\u001b[0m\u001b[1;33m.\u001b[0m\u001b[0mPIB\u001b[0m\u001b[1;33m,\u001b[0m \u001b[0mbdm\u001b[0m\u001b[1;33m.\u001b[0m\u001b[0mValorEmpenho\u001b[0m\u001b[1;33m,\u001b[0m \u001b[0mcolor\u001b[0m \u001b[1;33m=\u001b[0m \u001b[1;34m'blue'\u001b[0m\u001b[1;33m,\u001b[0m \u001b[0mfacecolors\u001b[0m \u001b[1;33m=\u001b[0m \u001b[1;34m'none'\u001b[0m\u001b[1;33m,\u001b[0m \u001b[0mmarker\u001b[0m \u001b[1;33m=\u001b[0m \u001b[1;34m'*'\u001b[0m\u001b[1;33m)\u001b[0m\u001b[1;33m\u001b[0m\u001b[1;33m\u001b[0m\u001b[0m\n\u001b[1;32m----> 3\u001b[1;33m \u001b[0mplt\u001b[0m\u001b[1;33m.\u001b[0m\u001b[0mxticks\u001b[0m\u001b[1;33m(\u001b[0m\u001b[0mnp\u001b[0m\u001b[1;33m.\u001b[0m\u001b[0marange\u001b[0m\u001b[1;33m(\u001b[0m\u001b[0mnp\u001b[0m\u001b[1;33m.\u001b[0m\u001b[0mmin\u001b[0m\u001b[1;33m(\u001b[0m\u001b[0mbdm\u001b[0m\u001b[1;33m.\u001b[0m\u001b[0mPIB\u001b[0m\u001b[1;33m[\u001b[0m\u001b[1;33m:\u001b[0m\u001b[1;33m]\u001b[0m\u001b[1;33m)\u001b[0m\u001b[1;33m,\u001b[0m \u001b[0mnp\u001b[0m\u001b[1;33m.\u001b[0m\u001b[0mmax\u001b[0m\u001b[1;33m(\u001b[0m\u001b[0mbdm\u001b[0m\u001b[1;33m.\u001b[0m\u001b[0mPIB\u001b[0m\u001b[1;33m[\u001b[0m\u001b[1;33m:\u001b[0m\u001b[1;33m]\u001b[0m\u001b[1;33m)\u001b[0m\u001b[1;33m,\u001b[0m \u001b[1;36m10\u001b[0m\u001b[1;33m)\u001b[0m\u001b[1;33m)\u001b[0m\u001b[1;33m\u001b[0m\u001b[1;33m\u001b[0m\u001b[0m\n\u001b[0m\u001b[0;32m      4\u001b[0m \u001b[0mplt\u001b[0m\u001b[1;33m.\u001b[0m\u001b[0mtitle\u001b[0m\u001b[1;33m(\u001b[0m\u001b[1;34m'Árvores'\u001b[0m\u001b[1;33m)\u001b[0m\u001b[1;33m\u001b[0m\u001b[1;33m\u001b[0m\u001b[0m\n\u001b[0;32m      5\u001b[0m \u001b[0mplt\u001b[0m\u001b[1;33m.\u001b[0m\u001b[0mxlabel\u001b[0m\u001b[1;33m(\u001b[0m\u001b[1;34m'Volume'\u001b[0m\u001b[1;33m)\u001b[0m\u001b[1;33m\u001b[0m\u001b[1;33m\u001b[0m\u001b[0m\n",
      "\u001b[1;31mTypeError\u001b[0m: unsupported operand type(s) for -: 'str' and 'str'"
     ]
    },
    {
     "data": {
      "image/png": "[encoded data removed]",
      "text/plain": [
       "<Figure size 792x504 with 1 Axes>"
      ]
     },
     "metadata": {
      "needs_background": "light"
     },
     "output_type": "display_data"
    }
   ],
   "source": [
    "plt.rcParams['figure.figsize'] = (11, 7)\n",
    "plt.scatter(bdm.PIB, bdm.ValorEmpenho, color = 'blue', facecolors = 'none', marker = '*') \n",
    "plt.xticks(np.arange(np.min(bdm.PIB[:]), np.max(bdm.PIB[:]), 10))\n",
    "plt.title('Árvores')\n",
    "plt.xlabel('Volume')\n",
    "plt.ylabel('Circunferência')\n"
   ]
  },
  {
   "cell_type": "code",
   "execution_count": 94,
   "id": "2d9927e0",
   "metadata": {
    "ExecuteTime": {
     "end_time": "2022-08-25T03:06:26.962020Z",
     "start_time": "2022-08-25T03:06:26.952048Z"
    }
   },
   "outputs": [
    {
     "data": {
      "text/plain": [
       "1"
      ]
     },
     "execution_count": 94,
     "metadata": {},
     "output_type": "execute_result"
    }
   ],
   "source": [
    "np.array([1,2,3]).min()"
   ]
  },
  {
   "cell_type": "code",
   "execution_count": null,
   "id": "1d7105df",
   "metadata": {},
   "outputs": [],
   "source": []
  }
 ],
 "metadata": {
  "kernelspec": {
   "display_name": "Python 3 (ipykernel)",
   "language": "python",
   "name": "python3"
  },
  "language_info": {
   "codemirror_mode": {
    "name": "ipython",
    "version": 3
   },
   "file_extension": ".py",
   "mimetype": "text/x-python",
   "name": "python",
   "nbconvert_exporter": "python",
   "pygments_lexer": "ipython3",
   "version": "3.9.7"
  },
  "toc": {
   "base_numbering": 1,
   "nav_menu": {},
   "number_sections": true,
   "sideBar": true,
   "skip_h1_title": false,
   "title_cell": "Table of Contents",
   "title_sidebar": "Contents",
   "toc_cell": false,
   "toc_position": {
    "height": "calc(100% - 180px)",
    "left": "10px",
    "top": "150px",
    "width": "265.188px"
   },
   "toc_section_display": true,
   "toc_window_display": true
  }
 },
 "nbformat": 4,
 "nbformat_minor": 5
}
