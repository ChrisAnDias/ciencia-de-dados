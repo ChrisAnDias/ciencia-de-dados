{
 "cells": [
  {
   "cell_type": "markdown",
   "id": "7cfb0784",
   "metadata": {},
   "source": [
    "# Análise com dados Kaggle"
   ]
  },
  {
   "cell_type": "markdown",
   "id": "5a7ef700",
   "metadata": {},
   "source": [
    "## Worl Energy Consumption"
   ]
  },
  {
   "cell_type": "code",
   "execution_count": 24,
   "id": "eb0405c6",
   "metadata": {
    "ExecuteTime": {
     "end_time": "2022-02-13T21:48:59.920312Z",
     "start_time": "2022-02-13T21:48:59.904146Z"
    }
   },
   "outputs": [],
   "source": [
    "import pandas as pd\n",
    "import statistics as sts\n",
    "import seaborn as srn"
   ]
  },
  {
   "cell_type": "code",
   "execution_count": 4,
   "id": "a6f36b51",
   "metadata": {
    "ExecuteTime": {
     "end_time": "2022-02-13T10:17:49.919717Z",
     "start_time": "2022-02-13T10:17:49.781976Z"
    }
   },
   "outputs": [],
   "source": [
    "ds = pd.read_csv('World Energy Consumption.csv')"
   ]
  },
  {
   "cell_type": "code",
   "execution_count": 11,
   "id": "30ea8441",
   "metadata": {
    "ExecuteTime": {
     "end_time": "2022-02-13T10:21:45.474457Z",
     "start_time": "2022-02-13T10:21:45.445429Z"
    }
   },
   "outputs": [
    {
     "data": {
      "text/html": [
       "<div>\n",
       "<style scoped>\n",
       "    .dataframe tbody tr th:only-of-type {\n",
       "        vertical-align: middle;\n",
       "    }\n",
       "\n",
       "    .dataframe tbody tr th {\n",
       "        vertical-align: top;\n",
       "    }\n",
       "\n",
       "    .dataframe thead th {\n",
       "        text-align: right;\n",
       "    }\n",
       "</style>\n",
       "<table border=\"1\" class=\"dataframe\">\n",
       "  <thead>\n",
       "    <tr style=\"text-align: right;\">\n",
       "      <th></th>\n",
       "      <th>iso_code</th>\n",
       "      <th>country</th>\n",
       "      <th>year</th>\n",
       "      <th>coal_prod_change_pct</th>\n",
       "      <th>coal_prod_change_twh</th>\n",
       "      <th>gas_prod_change_pct</th>\n",
       "      <th>gas_prod_change_twh</th>\n",
       "      <th>oil_prod_change_pct</th>\n",
       "      <th>oil_prod_change_twh</th>\n",
       "      <th>energy_cons_change_pct</th>\n",
       "      <th>...</th>\n",
       "      <th>solar_elec_per_capita</th>\n",
       "      <th>solar_energy_per_capita</th>\n",
       "      <th>gdp</th>\n",
       "      <th>wind_share_elec</th>\n",
       "      <th>wind_cons_change_pct</th>\n",
       "      <th>wind_share_energy</th>\n",
       "      <th>wind_cons_change_twh</th>\n",
       "      <th>wind_consumption</th>\n",
       "      <th>wind_elec_per_capita</th>\n",
       "      <th>wind_energy_per_capita</th>\n",
       "    </tr>\n",
       "  </thead>\n",
       "  <tbody>\n",
       "    <tr>\n",
       "      <th>0</th>\n",
       "      <td>AFG</td>\n",
       "      <td>Afghanistan</td>\n",
       "      <td>1900</td>\n",
       "      <td>NaN</td>\n",
       "      <td>NaN</td>\n",
       "      <td>NaN</td>\n",
       "      <td>NaN</td>\n",
       "      <td>NaN</td>\n",
       "      <td>NaN</td>\n",
       "      <td>NaN</td>\n",
       "      <td>...</td>\n",
       "      <td>NaN</td>\n",
       "      <td>NaN</td>\n",
       "      <td>NaN</td>\n",
       "      <td>NaN</td>\n",
       "      <td>NaN</td>\n",
       "      <td>NaN</td>\n",
       "      <td>NaN</td>\n",
       "      <td>NaN</td>\n",
       "      <td>NaN</td>\n",
       "      <td>NaN</td>\n",
       "    </tr>\n",
       "    <tr>\n",
       "      <th>1</th>\n",
       "      <td>AFG</td>\n",
       "      <td>Afghanistan</td>\n",
       "      <td>1901</td>\n",
       "      <td>NaN</td>\n",
       "      <td>0.0</td>\n",
       "      <td>NaN</td>\n",
       "      <td>NaN</td>\n",
       "      <td>NaN</td>\n",
       "      <td>NaN</td>\n",
       "      <td>NaN</td>\n",
       "      <td>...</td>\n",
       "      <td>NaN</td>\n",
       "      <td>NaN</td>\n",
       "      <td>NaN</td>\n",
       "      <td>NaN</td>\n",
       "      <td>NaN</td>\n",
       "      <td>NaN</td>\n",
       "      <td>NaN</td>\n",
       "      <td>NaN</td>\n",
       "      <td>NaN</td>\n",
       "      <td>NaN</td>\n",
       "    </tr>\n",
       "    <tr>\n",
       "      <th>2</th>\n",
       "      <td>AFG</td>\n",
       "      <td>Afghanistan</td>\n",
       "      <td>1902</td>\n",
       "      <td>NaN</td>\n",
       "      <td>0.0</td>\n",
       "      <td>NaN</td>\n",
       "      <td>NaN</td>\n",
       "      <td>NaN</td>\n",
       "      <td>NaN</td>\n",
       "      <td>NaN</td>\n",
       "      <td>...</td>\n",
       "      <td>NaN</td>\n",
       "      <td>NaN</td>\n",
       "      <td>NaN</td>\n",
       "      <td>NaN</td>\n",
       "      <td>NaN</td>\n",
       "      <td>NaN</td>\n",
       "      <td>NaN</td>\n",
       "      <td>NaN</td>\n",
       "      <td>NaN</td>\n",
       "      <td>NaN</td>\n",
       "    </tr>\n",
       "    <tr>\n",
       "      <th>3</th>\n",
       "      <td>AFG</td>\n",
       "      <td>Afghanistan</td>\n",
       "      <td>1903</td>\n",
       "      <td>NaN</td>\n",
       "      <td>0.0</td>\n",
       "      <td>NaN</td>\n",
       "      <td>NaN</td>\n",
       "      <td>NaN</td>\n",
       "      <td>NaN</td>\n",
       "      <td>NaN</td>\n",
       "      <td>...</td>\n",
       "      <td>NaN</td>\n",
       "      <td>NaN</td>\n",
       "      <td>NaN</td>\n",
       "      <td>NaN</td>\n",
       "      <td>NaN</td>\n",
       "      <td>NaN</td>\n",
       "      <td>NaN</td>\n",
       "      <td>NaN</td>\n",
       "      <td>NaN</td>\n",
       "      <td>NaN</td>\n",
       "    </tr>\n",
       "    <tr>\n",
       "      <th>4</th>\n",
       "      <td>AFG</td>\n",
       "      <td>Afghanistan</td>\n",
       "      <td>1904</td>\n",
       "      <td>NaN</td>\n",
       "      <td>0.0</td>\n",
       "      <td>NaN</td>\n",
       "      <td>NaN</td>\n",
       "      <td>NaN</td>\n",
       "      <td>NaN</td>\n",
       "      <td>NaN</td>\n",
       "      <td>...</td>\n",
       "      <td>NaN</td>\n",
       "      <td>NaN</td>\n",
       "      <td>NaN</td>\n",
       "      <td>NaN</td>\n",
       "      <td>NaN</td>\n",
       "      <td>NaN</td>\n",
       "      <td>NaN</td>\n",
       "      <td>NaN</td>\n",
       "      <td>NaN</td>\n",
       "      <td>NaN</td>\n",
       "    </tr>\n",
       "  </tbody>\n",
       "</table>\n",
       "<p>5 rows × 122 columns</p>\n",
       "</div>"
      ],
      "text/plain": [
       "  iso_code      country  year  coal_prod_change_pct  coal_prod_change_twh  \\\n",
       "0      AFG  Afghanistan  1900                   NaN                   NaN   \n",
       "1      AFG  Afghanistan  1901                   NaN                   0.0   \n",
       "2      AFG  Afghanistan  1902                   NaN                   0.0   \n",
       "3      AFG  Afghanistan  1903                   NaN                   0.0   \n",
       "4      AFG  Afghanistan  1904                   NaN                   0.0   \n",
       "\n",
       "   gas_prod_change_pct  gas_prod_change_twh  oil_prod_change_pct  \\\n",
       "0                  NaN                  NaN                  NaN   \n",
       "1                  NaN                  NaN                  NaN   \n",
       "2                  NaN                  NaN                  NaN   \n",
       "3                  NaN                  NaN                  NaN   \n",
       "4                  NaN                  NaN                  NaN   \n",
       "\n",
       "   oil_prod_change_twh  energy_cons_change_pct  ...  solar_elec_per_capita  \\\n",
       "0                  NaN                     NaN  ...                    NaN   \n",
       "1                  NaN                     NaN  ...                    NaN   \n",
       "2                  NaN                     NaN  ...                    NaN   \n",
       "3                  NaN                     NaN  ...                    NaN   \n",
       "4                  NaN                     NaN  ...                    NaN   \n",
       "\n",
       "   solar_energy_per_capita  gdp  wind_share_elec  wind_cons_change_pct  \\\n",
       "0                      NaN  NaN              NaN                   NaN   \n",
       "1                      NaN  NaN              NaN                   NaN   \n",
       "2                      NaN  NaN              NaN                   NaN   \n",
       "3                      NaN  NaN              NaN                   NaN   \n",
       "4                      NaN  NaN              NaN                   NaN   \n",
       "\n",
       "   wind_share_energy  wind_cons_change_twh  wind_consumption  \\\n",
       "0                NaN                   NaN               NaN   \n",
       "1                NaN                   NaN               NaN   \n",
       "2                NaN                   NaN               NaN   \n",
       "3                NaN                   NaN               NaN   \n",
       "4                NaN                   NaN               NaN   \n",
       "\n",
       "   wind_elec_per_capita  wind_energy_per_capita  \n",
       "0                   NaN                     NaN  \n",
       "1                   NaN                     NaN  \n",
       "2                   NaN                     NaN  \n",
       "3                   NaN                     NaN  \n",
       "4                   NaN                     NaN  \n",
       "\n",
       "[5 rows x 122 columns]"
      ]
     },
     "execution_count": 11,
     "metadata": {},
     "output_type": "execute_result"
    }
   ],
   "source": [
    "ds.head()"
   ]
  },
  {
   "cell_type": "code",
   "execution_count": 12,
   "id": "0ad38773",
   "metadata": {
    "ExecuteTime": {
     "end_time": "2022-02-13T10:22:13.095212Z",
     "start_time": "2022-02-13T10:22:13.085221Z"
    }
   },
   "outputs": [
    {
     "data": {
      "text/plain": [
       "(17432, 122)"
      ]
     },
     "execution_count": 12,
     "metadata": {},
     "output_type": "execute_result"
    }
   ],
   "source": [
    "ds.shape"
   ]
  },
  {
   "cell_type": "code",
   "execution_count": 13,
   "id": "b0c920b4",
   "metadata": {
    "ExecuteTime": {
     "end_time": "2022-02-13T10:22:24.876185Z",
     "start_time": "2022-02-13T10:22:24.853191Z"
    }
   },
   "outputs": [
    {
     "data": {
      "text/plain": [
       "<bound method DataFrame.info of       iso_code      country  year  coal_prod_change_pct  coal_prod_change_twh  \\\n",
       "0          AFG  Afghanistan  1900                   NaN                   NaN   \n",
       "1          AFG  Afghanistan  1901                   NaN                 0.000   \n",
       "2          AFG  Afghanistan  1902                   NaN                 0.000   \n",
       "3          AFG  Afghanistan  1903                   NaN                 0.000   \n",
       "4          AFG  Afghanistan  1904                   NaN                 0.000   \n",
       "...        ...          ...   ...                   ...                   ...   \n",
       "17427      ZWE     Zimbabwe  2015               -25.013               -10.847   \n",
       "17428      ZWE     Zimbabwe  2016               -37.694               -12.257   \n",
       "17429      ZWE     Zimbabwe  2017                 8.375                 1.697   \n",
       "17430      ZWE     Zimbabwe  2018                22.555                 4.952   \n",
       "17431      ZWE     Zimbabwe  2019               -35.015                -9.422   \n",
       "\n",
       "       gas_prod_change_pct  gas_prod_change_twh  oil_prod_change_pct  \\\n",
       "0                      NaN                  NaN                  NaN   \n",
       "1                      NaN                  NaN                  NaN   \n",
       "2                      NaN                  NaN                  NaN   \n",
       "3                      NaN                  NaN                  NaN   \n",
       "4                      NaN                  NaN                  NaN   \n",
       "...                    ...                  ...                  ...   \n",
       "17427                  NaN                  NaN                  NaN   \n",
       "17428                  NaN                  NaN                  NaN   \n",
       "17429                  NaN                  NaN                  NaN   \n",
       "17430                  NaN                  NaN                  NaN   \n",
       "17431                  NaN                  NaN                  NaN   \n",
       "\n",
       "       oil_prod_change_twh  energy_cons_change_pct  ...  \\\n",
       "0                      NaN                     NaN  ...   \n",
       "1                      NaN                     NaN  ...   \n",
       "2                      NaN                     NaN  ...   \n",
       "3                      NaN                     NaN  ...   \n",
       "4                      NaN                     NaN  ...   \n",
       "...                    ...                     ...  ...   \n",
       "17427                  NaN                  -0.789  ...   \n",
       "17428                  NaN                 -14.633  ...   \n",
       "17429                  NaN                     NaN  ...   \n",
       "17430                  NaN                     NaN  ...   \n",
       "17431                  NaN                     NaN  ...   \n",
       "\n",
       "       solar_elec_per_capita  solar_energy_per_capita           gdp  \\\n",
       "0                        NaN                      NaN           NaN   \n",
       "1                        NaN                      NaN           NaN   \n",
       "2                        NaN                      NaN           NaN   \n",
       "3                        NaN                      NaN           NaN   \n",
       "4                        NaN                      NaN           NaN   \n",
       "...                      ...                      ...           ...   \n",
       "17427                  0.579                      NaN  2.503057e+10   \n",
       "17428                  0.641                      NaN  2.515176e+10   \n",
       "17429                  0.773                      NaN           NaN   \n",
       "17430                  0.970                      NaN           NaN   \n",
       "17431                  0.956                      NaN           NaN   \n",
       "\n",
       "       wind_share_elec  wind_cons_change_pct  wind_share_energy  \\\n",
       "0                  NaN                   NaN                NaN   \n",
       "1                  NaN                   NaN                NaN   \n",
       "2                  NaN                   NaN                NaN   \n",
       "3                  NaN                   NaN                NaN   \n",
       "4                  NaN                   NaN                NaN   \n",
       "...                ...                   ...                ...   \n",
       "17427              0.0                   NaN                NaN   \n",
       "17428              0.0                   NaN                NaN   \n",
       "17429              0.0                   NaN                NaN   \n",
       "17430              0.0                   NaN                NaN   \n",
       "17431              0.0                   NaN                NaN   \n",
       "\n",
       "       wind_cons_change_twh  wind_consumption  wind_elec_per_capita  \\\n",
       "0                       NaN               NaN                   NaN   \n",
       "1                       NaN               NaN                   NaN   \n",
       "2                       NaN               NaN                   NaN   \n",
       "3                       NaN               NaN                   NaN   \n",
       "4                       NaN               NaN                   NaN   \n",
       "...                     ...               ...                   ...   \n",
       "17427                   NaN               NaN                   0.0   \n",
       "17428                   NaN               NaN                   0.0   \n",
       "17429                   NaN               NaN                   0.0   \n",
       "17430                   NaN               NaN                   0.0   \n",
       "17431                   NaN               NaN                   0.0   \n",
       "\n",
       "       wind_energy_per_capita  \n",
       "0                         NaN  \n",
       "1                         NaN  \n",
       "2                         NaN  \n",
       "3                         NaN  \n",
       "4                         NaN  \n",
       "...                       ...  \n",
       "17427                     NaN  \n",
       "17428                     NaN  \n",
       "17429                     NaN  \n",
       "17430                     NaN  \n",
       "17431                     NaN  \n",
       "\n",
       "[17432 rows x 122 columns]>"
      ]
     },
     "execution_count": 13,
     "metadata": {},
     "output_type": "execute_result"
    }
   ],
   "source": [
    "ds.info"
   ]
  },
  {
   "cell_type": "code",
   "execution_count": 16,
   "id": "515d1ec5",
   "metadata": {
    "ExecuteTime": {
     "end_time": "2022-02-13T20:26:11.508638Z",
     "start_time": "2022-02-13T20:26:11.495670Z"
    }
   },
   "outputs": [
    {
     "data": {
      "text/plain": [
       "Index(['iso_code', 'country', 'year', 'coal_prod_change_pct',\n",
       "       'coal_prod_change_twh', 'gas_prod_change_pct', 'gas_prod_change_twh',\n",
       "       'oil_prod_change_pct', 'oil_prod_change_twh', 'energy_cons_change_pct',\n",
       "       ...\n",
       "       'solar_elec_per_capita', 'solar_energy_per_capita', 'gdp',\n",
       "       'wind_share_elec', 'wind_cons_change_pct', 'wind_share_energy',\n",
       "       'wind_cons_change_twh', 'wind_consumption', 'wind_elec_per_capita',\n",
       "       'wind_energy_per_capita'],\n",
       "      dtype='object', length=122)"
      ]
     },
     "execution_count": 16,
     "metadata": {},
     "output_type": "execute_result"
    }
   ],
   "source": [
    "ds.columns"
   ]
  },
  {
   "cell_type": "code",
   "execution_count": 37,
   "id": "4734b1c0",
   "metadata": {
    "ExecuteTime": {
     "end_time": "2022-02-13T21:58:19.015824Z",
     "start_time": "2022-02-13T21:58:18.991858Z"
    }
   },
   "outputs": [
    {
     "data": {
      "text/html": [
       "<div>\n",
       "<style scoped>\n",
       "    .dataframe tbody tr th:only-of-type {\n",
       "        vertical-align: middle;\n",
       "    }\n",
       "\n",
       "    .dataframe tbody tr th {\n",
       "        vertical-align: top;\n",
       "    }\n",
       "\n",
       "    .dataframe thead th {\n",
       "        text-align: right;\n",
       "    }\n",
       "</style>\n",
       "<table border=\"1\" class=\"dataframe\">\n",
       "  <thead>\n",
       "    <tr style=\"text-align: right;\">\n",
       "      <th></th>\n",
       "      <th>Unnamed: 0</th>\n",
       "      <th>Track.Name</th>\n",
       "      <th>Artist.Name</th>\n",
       "      <th>Genre</th>\n",
       "      <th>Beats.Per.Minute</th>\n",
       "      <th>Energy</th>\n",
       "      <th>Danceability</th>\n",
       "      <th>Loudness..dB..</th>\n",
       "      <th>Liveness</th>\n",
       "      <th>Valence.</th>\n",
       "      <th>Length.</th>\n",
       "      <th>Acousticness..</th>\n",
       "      <th>Speechiness.</th>\n",
       "      <th>Popularity</th>\n",
       "    </tr>\n",
       "  </thead>\n",
       "  <tbody>\n",
       "    <tr>\n",
       "      <th>0</th>\n",
       "      <td>1</td>\n",
       "      <td>Señorita</td>\n",
       "      <td>Shawn Mendes</td>\n",
       "      <td>canadian pop</td>\n",
       "      <td>117</td>\n",
       "      <td>55</td>\n",
       "      <td>76</td>\n",
       "      <td>-6</td>\n",
       "      <td>8</td>\n",
       "      <td>75</td>\n",
       "      <td>191</td>\n",
       "      <td>4</td>\n",
       "      <td>3</td>\n",
       "      <td>79</td>\n",
       "    </tr>\n",
       "    <tr>\n",
       "      <th>1</th>\n",
       "      <td>2</td>\n",
       "      <td>China</td>\n",
       "      <td>Anuel AA</td>\n",
       "      <td>reggaeton flow</td>\n",
       "      <td>105</td>\n",
       "      <td>81</td>\n",
       "      <td>79</td>\n",
       "      <td>-4</td>\n",
       "      <td>8</td>\n",
       "      <td>61</td>\n",
       "      <td>302</td>\n",
       "      <td>8</td>\n",
       "      <td>9</td>\n",
       "      <td>92</td>\n",
       "    </tr>\n",
       "    <tr>\n",
       "      <th>2</th>\n",
       "      <td>3</td>\n",
       "      <td>boyfriend (with Social House)</td>\n",
       "      <td>Ariana Grande</td>\n",
       "      <td>dance pop</td>\n",
       "      <td>190</td>\n",
       "      <td>80</td>\n",
       "      <td>40</td>\n",
       "      <td>-4</td>\n",
       "      <td>16</td>\n",
       "      <td>70</td>\n",
       "      <td>186</td>\n",
       "      <td>12</td>\n",
       "      <td>46</td>\n",
       "      <td>85</td>\n",
       "    </tr>\n",
       "    <tr>\n",
       "      <th>3</th>\n",
       "      <td>4</td>\n",
       "      <td>Beautiful People (feat. Khalid)</td>\n",
       "      <td>Ed Sheeran</td>\n",
       "      <td>pop</td>\n",
       "      <td>93</td>\n",
       "      <td>65</td>\n",
       "      <td>64</td>\n",
       "      <td>-8</td>\n",
       "      <td>8</td>\n",
       "      <td>55</td>\n",
       "      <td>198</td>\n",
       "      <td>12</td>\n",
       "      <td>19</td>\n",
       "      <td>86</td>\n",
       "    </tr>\n",
       "    <tr>\n",
       "      <th>4</th>\n",
       "      <td>5</td>\n",
       "      <td>Goodbyes (Feat. Young Thug)</td>\n",
       "      <td>Post Malone</td>\n",
       "      <td>dfw rap</td>\n",
       "      <td>150</td>\n",
       "      <td>65</td>\n",
       "      <td>58</td>\n",
       "      <td>-4</td>\n",
       "      <td>11</td>\n",
       "      <td>18</td>\n",
       "      <td>175</td>\n",
       "      <td>45</td>\n",
       "      <td>7</td>\n",
       "      <td>94</td>\n",
       "    </tr>\n",
       "  </tbody>\n",
       "</table>\n",
       "</div>"
      ],
      "text/plain": [
       "   Unnamed: 0                       Track.Name    Artist.Name           Genre  \\\n",
       "0           1                         Señorita   Shawn Mendes    canadian pop   \n",
       "1           2                            China       Anuel AA  reggaeton flow   \n",
       "2           3    boyfriend (with Social House)  Ariana Grande       dance pop   \n",
       "3           4  Beautiful People (feat. Khalid)     Ed Sheeran             pop   \n",
       "4           5      Goodbyes (Feat. Young Thug)    Post Malone         dfw rap   \n",
       "\n",
       "   Beats.Per.Minute  Energy  Danceability  Loudness..dB..  Liveness  Valence.  \\\n",
       "0               117      55            76              -6         8        75   \n",
       "1               105      81            79              -4         8        61   \n",
       "2               190      80            40              -4        16        70   \n",
       "3                93      65            64              -8         8        55   \n",
       "4               150      65            58              -4        11        18   \n",
       "\n",
       "   Length.  Acousticness..  Speechiness.  Popularity  \n",
       "0      191               4             3          79  \n",
       "1      302               8             9          92  \n",
       "2      186              12            46          85  \n",
       "3      198              12            19          86  \n",
       "4      175              45             7          94  "
      ]
     },
     "execution_count": 37,
     "metadata": {},
     "output_type": "execute_result"
    }
   ],
   "source": [
    "musicas = pd.read_csv('top50.csv', encoding='ISO-8859-1')\n",
    "musicas.head()"
   ]
  },
  {
   "cell_type": "code",
   "execution_count": 40,
   "id": "9618c708",
   "metadata": {
    "ExecuteTime": {
     "end_time": "2022-02-13T21:58:31.991925Z",
     "start_time": "2022-02-13T21:58:31.983946Z"
    }
   },
   "outputs": [
    {
     "data": {
      "text/plain": [
       "(50, 14)"
      ]
     },
     "execution_count": 40,
     "metadata": {},
     "output_type": "execute_result"
    }
   ],
   "source": [
    "musicas.shape"
   ]
  },
  {
   "cell_type": "code",
   "execution_count": 42,
   "id": "e9acda8b",
   "metadata": {
    "ExecuteTime": {
     "end_time": "2022-02-14T08:23:42.202048Z",
     "start_time": "2022-02-14T08:23:42.185092Z"
    }
   },
   "outputs": [
    {
     "data": {
      "text/plain": [
       "Index(['Unnamed: 0', 'Track.Name', 'Artist.Name', 'Genre', 'Beats.Per.Minute',\n",
       "       'Energy', 'Danceability', 'Loudness..dB..', 'Liveness', 'Valence.',\n",
       "       'Length.', 'Acousticness..', 'Speechiness.', 'Popularity'],\n",
       "      dtype='object')"
      ]
     },
     "execution_count": 42,
     "metadata": {},
     "output_type": "execute_result"
    }
   ],
   "source": [
    "musicas.columns"
   ]
  },
  {
   "cell_type": "code",
   "execution_count": null,
   "id": "d504e046",
   "metadata": {},
   "outputs": [],
   "source": []
  },
  {
   "cell_type": "markdown",
   "id": "edfbaea4",
   "metadata": {},
   "source": []
  }
 ],
 "metadata": {
  "kernelspec": {
   "display_name": "Python 3 (ipykernel)",
   "language": "python",
   "name": "python3"
  },
  "language_info": {
   "codemirror_mode": {
    "name": "ipython",
    "version": 3
   },
   "file_extension": ".py",
   "mimetype": "text/x-python",
   "name": "python",
   "nbconvert_exporter": "python",
   "pygments_lexer": "ipython3",
   "version": "3.9.7"
  },
  "toc": {
   "base_numbering": 1,
   "nav_menu": {},
   "number_sections": true,
   "sideBar": true,
   "skip_h1_title": false,
   "title_cell": "Table of Contents",
   "title_sidebar": "Contents",
   "toc_cell": false,
   "toc_position": {},
   "toc_section_display": true,
   "toc_window_display": false
  }
 },
 "nbformat": 4,
 "nbformat_minor": 5
}
